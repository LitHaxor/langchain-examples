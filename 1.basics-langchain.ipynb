{
 "cells": [
  {
   "cell_type": "code",
   "execution_count": 25,
   "metadata": {},
   "outputs": [],
   "source": [
    "from langchain.llms import OpenAI\n",
    "from dotenv import load_dotenv\n",
    "\n",
    "load_dotenv()\n",
    "\n",
    "llm = OpenAI()\n",
    "\n",
    "\n"
   ]
  },
  {
   "cell_type": "markdown",
   "metadata": {},
   "source": [
    "# Basic Output"
   ]
  },
  {
   "cell_type": "code",
   "execution_count": 26,
   "metadata": {},
   "outputs": [
    {
     "data": {
      "text/plain": [
       "'\\n\\nThe capital of France is Paris.'"
      ]
     },
     "execution_count": 26,
     "metadata": {},
     "output_type": "execute_result"
    }
   ],
   "source": [
    "llm(\"What is the capital of France?\")"
   ]
  },
  {
   "cell_type": "markdown",
   "metadata": {},
   "source": [
    "# Introduction to chains"
   ]
  },
  {
   "cell_type": "code",
   "execution_count": 27,
   "metadata": {},
   "outputs": [
    {
     "name": "stdout",
     "output_type": "stream",
     "text": [
      "\n",
      "\n",
      "def addition(x, y):\n",
      "    return x + y\n"
     ]
    }
   ],
   "source": [
    "from langchain.prompts import PromptTemplate\n",
    "from langchain.chains import LLMChain\n",
    "\n",
    "\n",
    "code_prompt = PromptTemplate(\n",
    "    input_variables=[\"language\", \"task\"],\n",
    "    template=\"Write a very short {language} function that can perform {task}\"\n",
    ")\n",
    "\n",
    "\n",
    "code_chain = LLMChain(\n",
    "    llm=llm,\n",
    "    prompt=code_prompt,\n",
    "    output_key=\"code\"\n",
    ")\n",
    "\n",
    "\n",
    "result_code = code_chain({\n",
    "    \"language\": \"Python\",\n",
    "    \"task\": \"addition\"\n",
    "})\n",
    "\n",
    "print(result_code['code'])"
   ]
  },
  {
   "cell_type": "markdown",
   "metadata": {},
   "source": [
    "# Multiple chains Togeather"
   ]
  },
  {
   "cell_type": "code",
   "execution_count": 28,
   "metadata": {},
   "outputs": [
    {
     "name": "stdout",
     "output_type": "stream",
     "text": [
      "\n",
      "The code appears to be valid and will return the sum of the two input values.\n"
     ]
    }
   ],
   "source": [
    "validation_prompt = PromptTemplate(\n",
    "    input_variables=[\"language\", \"task\", \"code\"],\n",
    "    template=\"\"\"\n",
    "    Validate the following {language} code that performs {task}: {code}    \n",
    "    \"\"\"\n",
    ")\n",
    "\n",
    "validation_chain = LLMChain(\n",
    "    llm=llm,\n",
    "    prompt=validation_prompt,\n",
    "    output_key=\"validation\"\n",
    ")\n",
    "\n",
    "result_valid = validation_chain({\n",
    "    \"language\": \"Python\",\n",
    "    \"task\": \"addition\",\n",
    "    \"code\": result_code['code']\n",
    "})\n",
    "\n",
    "print(result_valid['validation'])"
   ]
  }
 ],
 "metadata": {
  "kernelspec": {
   "display_name": ".venv",
   "language": "python",
   "name": "python3"
  },
  "language_info": {
   "codemirror_mode": {
    "name": "ipython",
    "version": 3
   },
   "file_extension": ".py",
   "mimetype": "text/x-python",
   "name": "python",
   "nbconvert_exporter": "python",
   "pygments_lexer": "ipython3",
   "version": "3.10.10"
  }
 },
 "nbformat": 4,
 "nbformat_minor": 2
}
