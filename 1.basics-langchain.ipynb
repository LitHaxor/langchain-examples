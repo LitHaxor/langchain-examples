{
 "cells": [
  {
   "cell_type": "code",
   "execution_count": 31,
   "metadata": {},
   "outputs": [],
   "source": [
    "from langchain.llms import OpenAI\n",
    "from dotenv import load_dotenv\n",
    "\n",
    "load_dotenv()\n",
    "\n",
    "llm = OpenAI()\n"
   ]
  },
  {
   "cell_type": "markdown",
   "metadata": {},
   "source": [
    "# Basic Output"
   ]
  },
  {
   "cell_type": "code",
   "execution_count": 32,
   "metadata": {},
   "outputs": [
    {
     "data": {
      "text/plain": [
       "'\\n\\nThe capital of France is Paris.'"
      ]
     },
     "execution_count": 32,
     "metadata": {},
     "output_type": "execute_result"
    }
   ],
   "source": [
    "llm(\"What is the capital of France?\")"
   ]
  },
  {
   "cell_type": "markdown",
   "metadata": {},
   "source": [
    "# Introduction to chains"
   ]
  },
  {
   "cell_type": "code",
   "execution_count": 33,
   "metadata": {},
   "outputs": [
    {
     "name": "stdout",
     "output_type": "stream",
     "text": [
      "\n",
      "\n",
      "def add(x, y):\n",
      "    return x + y\n"
     ]
    }
   ],
   "source": [
    "from langchain.prompts import PromptTemplate\n",
    "from langchain.chains import LLMChain\n",
    "\n",
    "\n",
    "code_prompt = PromptTemplate(\n",
    "    input_variables=[\"language\", \"task\"],\n",
    "    template=\"Write a very short {language} function that can perform {task}\"\n",
    ")\n",
    "\n",
    "\n",
    "code_chain = LLMChain(\n",
    "    llm=llm,\n",
    "    prompt=code_prompt,\n",
    "    output_key=\"code\"\n",
    ")\n",
    "\n",
    "\n",
    "result_code = code_chain({\n",
    "    \"language\": \"Python\",\n",
    "    \"task\": \"addition\"\n",
    "})\n",
    "\n",
    "print(result_code['code'])"
   ]
  },
  {
   "cell_type": "markdown",
   "metadata": {},
   "source": [
    "# Multiple chains Togeather"
   ]
  },
  {
   "cell_type": "code",
   "execution_count": 34,
   "metadata": {},
   "outputs": [
    {
     "name": "stdout",
     "output_type": "stream",
     "text": [
      "\n",
      "# Test 1 - Test basic addition\n",
      "result = add(2, 3)\n",
      "print(result) # Expected output: 5\n",
      "\n",
      "# Test 2 - Test with negative numbers\n",
      "result = add(-5, 10)\n",
      "print(result) # Expected output: 5\n",
      "\n",
      "# Test 3 - Test with decimal numbers\n",
      "result = add(2.5, 3.5)\n",
      "print(result) # Expected output: 6.0\n",
      "\n",
      "# Test 4 - Test with zero\n",
      "result = add(0, 5)\n",
      "print(result) # Expected output: 5\n",
      "\n",
      "# Test 5 - Test with large numbers\n",
      "result = add(1000000, 500000)\n",
      "print(result) # Expected output: 1500000\n"
     ]
    }
   ],
   "source": [
    "validation_prompt = PromptTemplate(\n",
    "    input_variables=[\"language\", \"task\", \"code\"],\n",
    "    template=\"\"\"\n",
    "    create testcode for the following {language} code that performs {task}: {code}    \n",
    "    \"\"\"\n",
    ")\n",
    "\n",
    "validation_chain = LLMChain(\n",
    "    llm=llm,\n",
    "    prompt=validation_prompt,\n",
    "    output_key=\"test\"\n",
    ")\n",
    "\n",
    "result_valid = validation_chain({\n",
    "    \"language\": \"Python\",\n",
    "    \"task\": \"addition\",\n",
    "    \"code\": result_code['code']\n",
    "})\n",
    "\n",
    "print(result_valid['test'])"
   ]
  },
  {
   "cell_type": "markdown",
   "metadata": {},
   "source": [
    "# Multple Chains: SequencialChain"
   ]
  },
  {
   "cell_type": "code",
   "execution_count": 35,
   "metadata": {},
   "outputs": [
    {
     "name": "stdout",
     "output_type": "stream",
     "text": [
      ">>>> GENERATED CODE:\n",
      "\n",
      "\n",
      "def add(x, y):\n",
      "    return x + y\n",
      ">>>> TEST CODE:\n",
      "\n",
      "# Test cases for function add(x, y):\n",
      "\n",
      "# Case 1: Both inputs are integers\n",
      "assert add(5, 10) == 15\n",
      "\n",
      "# Case 2: Both inputs are floats\n",
      "assert add(2.5, 3.5) == 6.0\n",
      "\n",
      "# Case 3: One input is integer and one input is float\n",
      "assert add(5, 2.5) == 7.5\n",
      "\n",
      "# Case 4: Both inputs are negative numbers\n",
      "assert add(-5, -10) == -15\n",
      "\n",
      "# Case 5: One input is negative number and one input is positive number\n",
      "assert add(-2.5, 3.5) == 1.0\n",
      "\n",
      "# Case 6: One input is zero\n",
      "assert add(5, 0) == 5\n",
      "\n",
      "# Case 7: Both inputs are zero\n",
      "assert add(0, 0) == 0\n",
      "\n",
      "# Case 8: One input is large integer and one input is small integer\n",
      "assert add(1000000000, 5) == 1000000005\n",
      "\n",
      "# Case 9: One input is large float and one input is small float\n",
      "assert add(1000000000.5,\n"
     ]
    }
   ],
   "source": [
    "from langchain.chains import SequentialChain\n",
    "\n",
    "multiple_chains = SequentialChain(\n",
    "    chains=[code_chain, validation_chain],\n",
    "    input_variables=[\"language\", \"task\"],\n",
    "    output_variables=[\"code\", \"test\"]\n",
    ")\n",
    "\n",
    "result = multiple_chains({\n",
    "    \"language\": \"Python\",\n",
    "    \"task\": \"addition\"\n",
    "})\n",
    "\n",
    "\n",
    "print(\">>>> GENERATED CODE:\")\n",
    "print(result['code'])\n",
    "\n",
    "print(\">>>> TEST CODE:\")\n",
    "print(result['test'])"
   ]
  }
 ],
 "metadata": {
  "kernelspec": {
   "display_name": ".venv",
   "language": "python",
   "name": "python3"
  },
  "language_info": {
   "codemirror_mode": {
    "name": "ipython",
    "version": 3
   },
   "file_extension": ".py",
   "mimetype": "text/x-python",
   "name": "python",
   "nbconvert_exporter": "python",
   "pygments_lexer": "ipython3",
   "version": "3.10.10"
  }
 },
 "nbformat": 4,
 "nbformat_minor": 2
}
