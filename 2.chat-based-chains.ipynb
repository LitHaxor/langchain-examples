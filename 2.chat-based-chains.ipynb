{
 "cells": [
  {
   "cell_type": "code",
   "execution_count": 15,
   "metadata": {},
   "outputs": [
    {
     "data": {
      "text/plain": [
       "True"
      ]
     },
     "execution_count": 15,
     "metadata": {},
     "output_type": "execute_result"
    }
   ],
   "source": [
    "from langchain.prompts import HumanMessagePromptTemplate, ChatPromptTemplate\n",
    "from dotenv import load_dotenv\n",
    "\n",
    "load_dotenv()"
   ]
  },
  {
   "cell_type": "markdown",
   "metadata": {},
   "source": [
    "# Human Prompt Template"
   ]
  },
  {
   "cell_type": "code",
   "execution_count": 16,
   "metadata": {},
   "outputs": [],
   "source": [
    "prompt = ChatPromptTemplate(\n",
    "    input_variables=[\"content\"],\n",
    "    messages = [\n",
    "        HumanMessagePromptTemplate.from_template(\n",
    "            \"{content}\"\n",
    "        )\n",
    "    ]\n",
    ")"
   ]
  },
  {
   "cell_type": "code",
   "execution_count": 17,
   "metadata": {},
   "outputs": [],
   "source": [
    "from langchain_openai import ChatOpenAI\n",
    "from langchain.chains import LLMChain\n",
    "\n",
    "\n",
    "chat = ChatOpenAI(\n",
    "    model='gpt-3.5-turbo',\n",
    ")\n",
    "\n"
   ]
  },
  {
   "cell_type": "markdown",
   "metadata": {},
   "source": [
    "# Create the chain with ChatModel"
   ]
  },
  {
   "cell_type": "code",
   "execution_count": 18,
   "metadata": {},
   "outputs": [],
   "source": [
    "chain = prompt | chat"
   ]
  },
  {
   "cell_type": "markdown",
   "metadata": {},
   "source": [
    "# Application: Human Prompt Template"
   ]
  },
  {
   "cell_type": "code",
   "execution_count": 22,
   "metadata": {},
   "outputs": [],
   "source": [
    "def chat_bot(content):\n",
    "    # content = input(\"You: \")\n",
    "    \n",
    "    result = chain.invoke({\n",
    "        \"content\": \"hello\"\n",
    "    })\n",
    "\n",
    "    print(\"AI: \", result.content)"
   ]
  },
  {
   "cell_type": "code",
   "execution_count": 23,
   "metadata": {},
   "outputs": [
    {
     "name": "stdout",
     "output_type": "stream",
     "text": [
      "AI:  Hello! How can I assist you today?\n"
     ]
    }
   ],
   "source": [
    "chat_bot(\"hello\")"
   ]
  },
  {
   "cell_type": "code",
   "execution_count": 24,
   "metadata": {},
   "outputs": [
    {
     "name": "stdout",
     "output_type": "stream",
     "text": [
      "AI:  Hello! How can I assist you today?\n"
     ]
    }
   ],
   "source": [
    "chat_bot(\"how are you?\")"
   ]
  },
  {
   "cell_type": "markdown",
   "metadata": {},
   "source": [
    "# Introduction to Memory\n",
    "\n",
    "#### For Completion Type Models\n",
    "\n",
    "- ConversationTokenBufferMemory\n",
    "- CombinedMemory\n",
    "- ConverstaionBufferWindowMemory\n",
    "\n",
    "#### For Chat Models\n",
    "\n",
    "- ConversationBufferMemory\n",
    "\n",
    "The Memroy adds 'HumanMessage' and 'AiMessage' to the list.\n",
    "\n",
    "**Memory doesn't add the history and push them to LLM**"
   ]
  },
  {
   "cell_type": "code",
   "execution_count": 25,
   "metadata": {},
   "outputs": [],
   "source": [
    "from langchain.memory import ConversationBufferMemory\n",
    "from langchain.prompts import MessagesPlaceholder"
   ]
  },
  {
   "cell_type": "code",
   "execution_count": 38,
   "metadata": {},
   "outputs": [],
   "source": [
    "memory = ConversationBufferMemory(\n",
    "    memory_key=\"messages\",\n",
    "    return_messages=True\n",
    ")"
   ]
  },
  {
   "cell_type": "code",
   "execution_count": 39,
   "metadata": {},
   "outputs": [],
   "source": [
    "prompt_with_memory = ChatPromptTemplate(\n",
    "    input_variables=[\"content\", \"messages\"],\n",
    "    messages=[\n",
    "        MessagesPlaceholder(variable_name=\"messages\"),\n",
    "        HumanMessagePromptTemplate.from_template(\n",
    "            \"{content}\"\n",
    "        )\n",
    "    ]\n",
    ")"
   ]
  },
  {
   "cell_type": "code",
   "execution_count": 40,
   "metadata": {},
   "outputs": [],
   "source": [
    "chain_with_memory = LLMChain(\n",
    "    prompt= prompt_with_memory,\n",
    "    memory= memory,\n",
    "    llm= chat\n",
    ")"
   ]
  },
  {
   "cell_type": "code",
   "execution_count": 43,
   "metadata": {},
   "outputs": [],
   "source": [
    "def chat_bot_with_memory(content):\n",
    "    result = chain_with_memory.invoke({\n",
    "        \"content\": content,\n",
    "        \"messages\": []\n",
    "    })\n",
    "\n",
    "    print(\"AI: \", result['text'])\n"
   ]
  },
  {
   "cell_type": "code",
   "execution_count": 44,
   "metadata": {},
   "outputs": [
    {
     "name": "stdout",
     "output_type": "stream",
     "text": [
      "AI:  1 + 1 = 2\n",
      "AI:  1 + 1 + 3 = 5\n"
     ]
    }
   ],
   "source": [
    "chat_bot_with_memory(\"what is 1 + 1?\")\n",
    "chat_bot_with_memory(\"and 3 more?\")"
   ]
  },
  {
   "cell_type": "markdown",
   "metadata": {},
   "source": [
    "# Langchain with storage"
   ]
  },
  {
   "cell_type": "code",
   "execution_count": 46,
   "metadata": {},
   "outputs": [],
   "source": [
    "from langchain.memory import FileChatMessageHistory\n",
    "\n",
    "llm_with_history = ChatOpenAI(\n",
    "    model='gpt-3.5-turbo',\n",
    ")"
   ]
  },
  {
   "cell_type": "code",
   "execution_count": 47,
   "metadata": {},
   "outputs": [],
   "source": [
    "memory_with_history = ConversationBufferMemory(\n",
    "    chat_memory=FileChatMessageHistory(\"messages.json\"),\n",
    "    memory_key=\"messages\",\n",
    "    return_messages=True\n",
    ")"
   ]
  },
  {
   "cell_type": "code",
   "execution_count": 48,
   "metadata": {},
   "outputs": [],
   "source": [
    "prompt = ChatPromptTemplate(\n",
    "    input_variables=[\"content\", \"messages\"],\n",
    "    messages=[\n",
    "        MessagesPlaceholder(variable_name=\"messages\"),\n",
    "        HumanMessagePromptTemplate.from_template(\n",
    "            \"{content}\"\n",
    "        )\n",
    "    ]\n",
    ")"
   ]
  },
  {
   "cell_type": "code",
   "execution_count": 51,
   "metadata": {},
   "outputs": [],
   "source": [
    "chain_with_history = LLMChain(\n",
    "    prompt= prompt,\n",
    "    memory= memory_with_history,\n",
    "    llm= llm_with_history\n",
    ")"
   ]
  },
  {
   "cell_type": "code",
   "execution_count": 54,
   "metadata": {},
   "outputs": [],
   "source": [
    "def chat_bot_with_history(content):\n",
    "    result = chain_with_history.invoke({\n",
    "        \"content\": content,\n",
    "        \"messages\": []\n",
    "    })\n",
    "\n",
    "    print(\"AI: \", result['text'])"
   ]
  },
  {
   "cell_type": "code",
   "execution_count": 55,
   "metadata": {},
   "outputs": [
    {
     "name": "stdout",
     "output_type": "stream",
     "text": [
      "AI:  1 + 1 = 2\n",
      "AI:  2 + 3 = 5\n"
     ]
    }
   ],
   "source": [
    "chat_bot_with_history(\"what is 1 + 1?\")\n",
    "chat_bot_with_history(\"add 3 more?\")"
   ]
  },
  {
   "cell_type": "markdown",
   "metadata": {},
   "source": [
    "### Optimised Memory using ConverstaionSummaryMemory"
   ]
  },
  {
   "cell_type": "code",
   "execution_count": 63,
   "metadata": {},
   "outputs": [],
   "source": [
    "from langchain.memory import ConversationSummaryMemory\n",
    "\n",
    "\n",
    "optimised_memory = ConversationSummaryMemory(\n",
    "    memory_key=\"messages\",\n",
    "    return_messages=True,\n",
    "    llm=chat\n",
    ")\n",
    "\n",
    "optimised_prompt = ChatPromptTemplate(\n",
    "    input_variables=[\"content\", \"messages\"],\n",
    "    messages=[\n",
    "        MessagesPlaceholder(variable_name=\"messages\"),\n",
    "        HumanMessagePromptTemplate.from_template(\n",
    "            \"{content}\"\n",
    "        )\n",
    "    ]\n",
    ")\n",
    "\n",
    "\n",
    "optimised_chain = LLMChain(\n",
    "    prompt=optimised_prompt,\n",
    "    memory=optimised_memory,\n",
    "    llm=chat,\n",
    "    verbose=True\n",
    ")"
   ]
  },
  {
   "cell_type": "code",
   "execution_count": 59,
   "metadata": {},
   "outputs": [],
   "source": [
    "def chat_bot_optimised(content):\n",
    "    result = optimised_chain.invoke({\n",
    "        \"content\": content,\n",
    "        \"messages\": []\n",
    "    })\n",
    "\n",
    "    print(\"AI: \", result['text'])"
   ]
  },
  {
   "cell_type": "code",
   "execution_count": 64,
   "metadata": {},
   "outputs": [
    {
     "name": "stdout",
     "output_type": "stream",
     "text": [
      "\n",
      "\n",
      "\u001b[1m> Entering new LLMChain chain...\u001b[0m\n",
      "Prompt after formatting:\n",
      "\u001b[32;1m\u001b[1;3mSystem: \n",
      "Human: what is 1 + 1?\u001b[0m\n",
      "\n",
      "\u001b[1m> Finished chain.\u001b[0m\n",
      "AI:  1 + 1 equals 2.\n",
      "\n",
      "\n",
      "\u001b[1m> Entering new LLMChain chain...\u001b[0m\n",
      "Prompt after formatting:\n",
      "\u001b[32;1m\u001b[1;3mSystem: The human asks what the AI thinks of artificial intelligence. The AI thinks artificial intelligence is a force for good because it will help humans reach their full potential. The human then asks what is 1 + 1, to which the AI responds that 1 + 1 equals 2.\n",
      "Human: add 3 more?\u001b[0m\n",
      "\n",
      "\u001b[1m> Finished chain.\u001b[0m\n",
      "AI:  1 + 1 + 3 equals 5.\n",
      "\n",
      "\n",
      "\u001b[1m> Entering new LLMChain chain...\u001b[0m\n",
      "Prompt after formatting:\n",
      "\u001b[32;1m\u001b[1;3mSystem: The human asks what the AI thinks of artificial intelligence. The AI thinks artificial intelligence is a force for good because it will help humans reach their full potential. The human then asks what is 1 + 1, to which the AI responds that 1 + 1 equals 2. When asked to add 3 more, the AI calculates that 1 + 1 + 3 equals 5.\n",
      "Human: again 5 more?\u001b[0m\n",
      "\n",
      "\u001b[1m> Finished chain.\u001b[0m\n",
      "AI:  Adding 5 more to the previous result of 1 + 1 + 3, we have 1 + 1 + 3 + 5 = 10.\n"
     ]
    }
   ],
   "source": [
    "chat_bot_optimised(\"what is 1 + 1?\")\n",
    "chat_bot_optimised(\"add 3 more?\")\n",
    "chat_bot_optimised(\"again 5 more?\")"
   ]
  }
 ],
 "metadata": {
  "kernelspec": {
   "display_name": ".venv",
   "language": "python",
   "name": "python3"
  },
  "language_info": {
   "codemirror_mode": {
    "name": "ipython",
    "version": 3
   },
   "file_extension": ".py",
   "mimetype": "text/x-python",
   "name": "python",
   "nbconvert_exporter": "python",
   "pygments_lexer": "ipython3",
   "version": "3.10.10"
  }
 },
 "nbformat": 4,
 "nbformat_minor": 2
}
