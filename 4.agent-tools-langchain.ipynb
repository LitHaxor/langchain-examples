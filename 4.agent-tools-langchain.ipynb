{
 "cells": [
  {
   "cell_type": "markdown",
   "metadata": {},
   "source": [
    "# Agents and Tools"
   ]
  },
  {
   "cell_type": "markdown",
   "metadata": {},
   "source": [
    "#### ChatGPT Functions"
   ]
  },
  {
   "cell_type": "code",
   "execution_count": 2,
   "metadata": {},
   "outputs": [],
   "source": [
    "import sqlite3\n",
    "\n",
    "conn = sqlite3.connect('db.sqlite')"
   ]
  },
  {
   "cell_type": "code",
   "execution_count": 3,
   "metadata": {},
   "outputs": [],
   "source": [
    "def run_query(query:str):\n",
    "    cursor = conn.cursor()\n",
    "    try:\n",
    "        cursor.execute(query)\n",
    "        conn.commit()\n",
    "        return cursor.fetchall()\n",
    "    except sqlite3.OperationalError as err:\n",
    "        return f\"The following error occurred: {str(err)}\""
   ]
  },
  {
   "cell_type": "code",
   "execution_count": 5,
   "metadata": {},
   "outputs": [],
   "source": [
    "from langchain.tools import Tool\n",
    "\n",
    "\n",
    "run_query_tool = Tool.from_function(\n",
    "    name=\"run_sqlite_query\",\n",
    "    description=\"\"\"\n",
    "    run a query on the sqlite database\n",
    "    \"\"\",\n",
    "    func=run_query,\n",
    "\n",
    ")\n"
   ]
  },
  {
   "cell_type": "code",
   "execution_count": 6,
   "metadata": {},
   "outputs": [
    {
     "data": {
      "text/plain": [
       "True"
      ]
     },
     "execution_count": 6,
     "metadata": {},
     "output_type": "execute_result"
    }
   ],
   "source": [
    "from langchain_openai import ChatOpenAI\n",
    "from langchain.prompts import (\n",
    "    ChatPromptTemplate,\n",
    "    HumanMessagePromptTemplate,\n",
    "    MessagesPlaceholder\n",
    ")\n",
    "from langchain.agents import OpenAIFunctionsAgent, AgentExecutor\n",
    "from dotenv import load_dotenv\n",
    "load_dotenv()\n"
   ]
  },
  {
   "cell_type": "code",
   "execution_count": 7,
   "metadata": {},
   "outputs": [],
   "source": [
    "chat = ChatOpenAI(\n",
    "    model='gpt-3.5-turbo',\n",
    ")\n",
    "\n",
    "chat_prompt = ChatPromptTemplate(\n",
    "    messages =[\n",
    "        HumanMessagePromptTemplate.from_template(\"{input}\"),\n",
    "        MessagesPlaceholder(variable_name=\"agent_scratchpad\")\n",
    "    ]\n",
    ")"
   ]
  },
  {
   "cell_type": "code",
   "execution_count": 9,
   "metadata": {},
   "outputs": [],
   "source": [
    "agent = OpenAIFunctionsAgent(\n",
    "    llm=chat,\n",
    "    prompt=chat_prompt,\n",
    "    tools=[run_query_tool]\n",
    ")\n",
    "\n",
    "agent_executor = AgentExecutor(\n",
    "    agent=agent,\n",
    "    verbose=True,\n",
    "    tools=[run_query_tool]\n",
    ")\n"
   ]
  },
  {
   "cell_type": "code",
   "execution_count": 10,
   "metadata": {},
   "outputs": [
    {
     "name": "stdout",
     "output_type": "stream",
     "text": [
      "\n",
      "\n",
      "\u001b[1m> Entering new AgentExecutor chain...\u001b[0m\n",
      "\u001b[32;1m\u001b[1;3m\n",
      "Invoking: `run_sqlite_query` with `SELECT COUNT(*) FROM users`\n",
      "\n",
      "\n",
      "\u001b[0m\u001b[36;1m\u001b[1;3m[(2000,)]\u001b[0m\u001b[32;1m\u001b[1;3mThere are 2000 users in the database.\u001b[0m\n",
      "\n",
      "\u001b[1m> Finished chain.\u001b[0m\n"
     ]
    },
    {
     "data": {
      "text/plain": [
       "{'input': 'How many users are in the database?',\n",
       " 'output': 'There are 2000 users in the database.'}"
      ]
     },
     "execution_count": 10,
     "metadata": {},
     "output_type": "execute_result"
    }
   ],
   "source": [
    "agent_executor(\"How many users are in the database?\")"
   ]
  },
  {
   "cell_type": "code",
   "execution_count": 14,
   "metadata": {},
   "outputs": [
    {
     "name": "stdout",
     "output_type": "stream",
     "text": [
      "\n",
      "\n",
      "\u001b[1m> Entering new AgentExecutor chain...\u001b[0m\n",
      "\u001b[32;1m\u001b[1;3m\n",
      "Invoking: `run_sqlite_query` with `SELECT users.name, COUNT(orders.user_id) as orders_count FROM orders JOIN users ON orders.user_id = users.id GROUP BY orders.user_id`\n",
      "\n",
      "\n",
      "\u001b[0m\u001b[36;1m\u001b[1;3m[('Marvin Mejia', 2), ('Vanessa Young', 1), ('Elizabeth Holmes', 3), ('Laura Hunter', 1), ('Darren Mullins', 1), ('Lauren Perry', 1), ('Mark Phillips', 1), ('Christine Jackson', 1), ('Raymond Price', 1), ('Daniel Harris', 3), ('Jennifer Cohen', 2), ('Maria Brown', 1), ('Mary Garcia', 1), ('Arthur Watson', 1), ('Melissa Holland', 1), ('Robert Thomas IV', 1), ('Darren Hernandez', 1), ('Michael Stevens', 1), ('Jesus Villegas', 2), ('Sarah Schaefer', 2), ('Dennis Dean', 2), ('Kimberly Williams', 1), ('Holly Jones', 1), ('Ronald Lee', 1), ('Brandon Lewis', 1), ('Kristin Poole', 1), ('Lisa Mcpherson', 1), ('Angela Larsen', 1), ('Katie Orr', 1), ('Casey Johnson', 1), ('Lori Reynolds', 3), ('Joel Owens', 1), ('Melissa Daniels', 3), ('Samuel Douglas', 1), ('Marco Munoz', 1), ('Kelly White', 1), ('Paul King', 2), ('Peter Espinoza', 1), ('Cheryl Briggs', 2), ('Tiffany Houston', 3), ('Molly Gray', 3), ('Joseph Hansen', 2), ('Lauren Yang DVM', 1), ('Joseph Patrick', 1), ('Sara Garcia', 1), ('Lauren Miller', 3), ('Richard Sharp', 2), ('Pamela Ward', 2), ('Joshua Hines', 1), ('Samantha Norman', 1), ('Kent Wang', 2), ('Mario Wang', 1), ('Thomas Mata', 1), ('John Gordon', 1), ('Jasmine Sweeney', 1), ('Heather Hardin', 1), ('David Bradley', 2), ('Janet Thompson DDS', 1), ('Gregory Lambert', 1), ('Nicholas Dunn', 1), ('Leslie Lewis', 2), ('Robert Rivas', 4), ('Bradley Guzman', 1), ('Jonathan Wilson', 2), ('Christina Evans', 1), ('Andrew Stewart', 2), ('Samantha Gomez', 1), ('Christopher Bennett', 1), ('David Harris MD', 1), ('Hunter Brooks', 2), ('Brandi Farley', 1), ('Kelly Aguilar', 1), ('Amy Goodwin', 1), ('Joseph Howard', 2), ('William Little', 1), ('Shane Trujillo', 1), ('Kyle Davis', 1), ('Dennis Carroll', 1), ('Teresa Orr', 1), ('Albert Montgomery', 1), ('Stephanie Bautista', 1), ('Kelly Butler', 1), ('Terry Robinson', 2), ('Devin Jones', 1), ('Taylor Hicks', 1), ('Rose Coffey', 2), ('Stephen Shaffer Jr.', 1), ('Jennifer Palmer', 1), ('Kristy Thomas', 1), ('Barbara Lopez', 1), ('Jeanne Lowe', 1), ('Dana Barr', 2), ('Brittany Ryan', 1), ('Kathleen Calderon', 1), ('Heather Miller', 2), ('Joshua Miller', 1), ('Tiffany Nelson', 1), ('Sarah Brown', 1), ('William Williams', 1), ('Kelly Gonzalez', 2), ('Jacob Williams', 1), ('Martin Steele', 2), ('Jessica Martinez', 1), ('Teresa Martinez', 1), ('Penny Roy', 1), ('Joshua Douglas', 3), ('Ricky Reyes', 2), ('Melissa Haney DDS', 1), ('Madeline Fisher', 1), ('Norman Thompson', 1), ('Marie Armstrong', 2), ('Debra Hansen', 1), ('Bonnie Mccarty DDS', 1), ('Nicole Mora', 4), ('Lauren Hernandez', 1), ('Casey Williams', 1), ('Amy Mitchell', 1), ('Cody Howard', 1), ('Benjamin Green', 1), ('James Patrick', 2), ('Laura Carpenter', 3), ('Tiffany Marshall', 1), ('Catherine Chapman', 1), ('Kathleen Green', 1), ('Jessica Meyer', 2), ('Paul Jackson', 1), ('Sandra Gomez', 2), ('Andrea Hayes', 1), ('Alyssa James', 1), ('Aaron Fernandez', 1), ('Paul Stephenson', 2), ('Morgan Martinez', 1), ('Lee Washington', 2), ('Olivia Fry MD', 1), ('Eugene Smith', 2), ('Jason Rodriguez', 1), ('Jonathan Campbell', 1), ('Melissa Hall', 1), ('Felicia Haney', 1), ('Alyssa Ibarra', 1), ('Melissa Francis', 2), ('Hunter Barnes', 1), ('James Evans', 2), ('Emma Thompson', 1), ('Ronald Miles', 1), ('Matthew Blackwell', 1), ('Carolyn Russell', 1), ('Alexander Woodward', 1), ('Eddie Moore', 2), ('Anita Sandoval', 1), ('Kathleen Maxwell MD', 2), ('Ashley Russell', 1), ('Christine Lucas', 1), ('Rose Beasley', 2), ('Cynthia Jones', 1), ('Sean Hansen', 2), ('John Wilson', 1), ('Tina Johnson', 1), ('Richard Johnson', 1), ('Shawn Estrada', 2), ('William Hernandez', 1), ('David Shepherd', 1), ('Richard Strickland', 1), ('Elizabeth Baker', 1), ('Joseph Robinson', 2), ('Carolyn Hess', 3), ('Mark Potts', 1), ('Phillip Olson', 3), ('Raymond Logan', 1), ('Sophia Browning', 1), ('Stacy Hines', 3), ('Jesse Wells Jr.', 1), ('Jenna Ross', 2), ('Richard Ortiz', 2), ('Evan Morgan', 1), ('Deborah Reynolds', 2), ('Wendy Burton', 1), ('James Walters', 1), ('Jesus Cook', 2), ('Christopher Ramos', 1), ('Daniel Tucker', 1), ('Christopher Singh', 1), ('Jeremy Hanson', 1), ('Kristi Watson', 2), ('William Martin', 2), ('Donna Fowler', 3), ('Anthony Rodgers', 2), ('Timothy Lucas Jr.', 1), ('Melanie Reyes', 1), ('Jason King', 2), ('Veronica Graham', 1), ('Dakota Ortiz', 1), ('Brenda Lynn', 1), ('Matthew Rogers', 1), ('Amber Wong', 2), ('John Richardson', 1), ('Margaret Powell', 1), ('Charles Webb', 1), ('Michael Ramirez', 1), ('Jack Stewart', 1), ('Amanda Spencer', 2), ('Edward Sosa', 1), ('Carolyn Ward', 1), ('Kristina Gill', 1), ('Kim Lynch', 1), ('Scott Johnson', 1), ('Roberto Wood', 2), ('Joel Clark', 1), ('Stephanie Williams', 2), ('Jessica Crawford', 1), ('Robert Boyer', 1), ('Gabriel Jarvis', 1), ('Robin Smith', 1), ('Jason Thompson', 3), ('Miranda Brown', 3), ('Joshua Jones', 2), ('Jeffrey Medina', 2), ('William Mccoy', 3), ('John Wiggins', 1), ('Leslie Tapia', 2), ('Erika Butler', 1), ('Brett Chung', 1), ('Mary Gonzales', 2), ('John Robinson', 1), ('Steven Hawkins', 1), ('Laura Freeman', 1), ('David Riley', 1), ('Karen Torres', 2), ('Allen Stokes', 1), ('Amanda Ramirez', 1), ('Laura Jacobson', 1), ('Kelly Farmer', 1), ('Andrea Garcia', 1), ('Chase Morales', 1), ('Mary Goodman', 1), ('Victoria Gillespie', 2), ('Devin Thomas', 1), ('Melissa Romero', 2), ('Linda Foster', 1), ('Heather Ferguson', 2), ('Alexander Rogers', 1), ('Justin Ellis', 1), ('Michael Torres', 1), ('Paul Pena', 1), ('Brian Cooley', 3), ('Cindy Hughes', 1), ('Jonathon Perez', 1), ('Carolyn Lee', 1), ('Rebecca Williams', 1), ('Tammy Lynch', 2), ('Terri Pearson', 1), ('Lauren Rice', 2), ('Stephanie Rodriguez', 1), ('Stacy Dominguez', 1), ('Lisa Vasquez', 2), ('Julian Maldonado', 1), ('Andrea Ryan', 2), ('Lisa Williams', 2), ('Kelly Davis MD', 1), ('Jeffery Hunter DVM', 1), ('William Young', 1), ('Jose Reyes', 1), ('Traci Williams', 1), ('Lori Simmons', 1), ('Melissa Bell', 3), ('Joshua Holland', 1), ('Brett Cook', 1), ('Jonathon Gonzalez', 1), ('Kimberly Washington', 2), ('Nicholas Kidd', 1), ('Patricia Jackson', 1), ('Tara Henry', 2), ('Steven Merritt', 1), ('Dawn Guerrero', 1), ('Brooke Pearson', 1), ('Richard Maldonado', 1), ('Thomas Hayes', 1), ('Christine Watkins', 1), ('Christian Moore', 1), ('Daniel White', 1), ('James Blair', 1), ('Anthony Acosta Jr.', 1), ('Amy Johnson', 1), ('Brent Nelson', 1), ('Jane Hunt', 1), ('Angela Carter', 2), ('Emily Bauer', 1), ('Jessica Reed', 1), ('William Lynn', 2), ('Karen Lewis', 1), ('Eric Chambers', 1), ('Melissa Mason', 1), ('Dwayne Vega', 2), ('Susan Robinson', 2), ('Daniel Byrd', 1), ('Michael Collins', 1), ('Carlos Taylor', 1), ('Jennifer Johnson', 1), ('Scott Miller', 1), ('Amber Carroll', 1), ('Belinda Byrd', 1), ('Martha Scott', 2), ('Cynthia Rogers', 1), ('Bryan Medina', 1), ('Dean Mcclure', 2), ('Yolanda Carroll', 2), ('Cheryl Johnson', 1), ('Savannah Garcia', 1), ('Natasha Burke', 2), ('Joshua Montgomery', 1), ('Katherine Acevedo', 1), ('Suzanne Pratt', 1), ('Deborah Walker', 1), ('Rachel Ramirez', 2), ('Leslie Lamb', 2), ('Matthew Johnson', 1), ('Brandon Martinez', 1), ('Teresa Conner', 1), ('John Hubbard', 1), ('Tiffany Wallace', 1), ('Amber Williams', 1), ('Andrew Miller', 2), ('Ashley Greer', 1), ('Joshua Cummings', 1), ('Christopher Barajas', 1), ('Jeffrey Hess', 1), ('Joseph Garcia', 2), ('Jorge Anderson', 2), ('Dana Walsh', 2), ('Michael Smith', 1), ('Kevin Bruce', 2), ('Jesse Combs', 1), ('Michelle Mccoy', 2), ('Debbie Oconnor', 2), ('Mrs. Kelsey Davis MD', 1), ('Travis Guerra', 2), ('Krystal Arnold', 1), ('Johnny Aguirre', 1), ('Joseph Jones', 1), ('Matthew Owen', 1), ('Richard Mitchell', 2), ('Charles Saunders', 2), ('Ashley Hubbard', 1), ('Katherine Fitzgerald', 1), ('Seth Smith', 1), ('Jonathan Lopez', 1), ('Kyle Wong', 4), ('Terry Edwards', 2), ('Amy Johnson', 2), ('Mary Campos', 2), ('Diana Oliver', 1), ('Kyle Reynolds', 5), ('Donna Perry', 2), ('Jeffrey Mckinney', 1), ('James Frye', 1), ('Stephanie Blake', 1), ('Ryan Brown', 1), ('Kiara Weaver', 2), ('Jimmy Long', 2), ('Crystal Smith', 1), ('Justin Perez PhD', 1), ('Tracy Adams', 1), ('Jasmine Carr', 1), ('Jessica Lucas', 1), ('Tara Guerra', 1), ('Damon Stanley', 1), ('Jasmine Moore', 2), ('Jennifer Schwartz', 1), ('Jeanne Becker', 1), ('Stacey Lewis', 1), ('Ricardo Smith', 1), ('Kelly Gardner', 1), ('Robert Parker', 2), ('Jennifer Morton', 1), ('Linda Vance', 1), ('Matthew Smith', 2), ('Kerry Coleman', 1), ('Andrew Haas', 2), ('Katrina Roberson', 1), ('Garrett Roberts', 1), ('Melissa Mcgee', 1), ('Joseph Miller', 1), ('Stacey Callahan', 1), ('Ashley Ayers', 2), ('Bethany Watson', 1), ('Stephanie Lewis', 1), ('Michele Morales', 1), ('James Sandoval', 1), ('Justin White', 2), ('Steve Holmes', 2), ('James Russo', 1), ('James Owens', 2), ('Jennifer Thompson', 1), ('Emily Morris', 1), ('Matthew Landry', 2), ('Antonio Ibarra', 1), ('Dennis Mckenzie', 1), ('Dana Taylor', 1), ('David Jackson', 1), ('Christopher Mullins', 1), ('Richard Lee', 1), ('Justin Jones', 1), ('Christine Lopez', 2), ('Angela Clark', 1), ('Heather Green', 2), ('Joshua Cunningham DDS', 1), ('Heather Barnes', 1), ('Justin Fowler', 1), ('Lori Cooper', 1), ('Morgan Washington', 1), ('Christina Jennings', 1), ('Kristy Walter', 1), ('Susan Smith', 1), ('Mrs. Courtney Scott MD', 1), ('Kevin Harris', 2), ('Caleb Richards', 2), ('Kathy Delgado', 2), ('Fred Howe', 1), ('Janice Miller', 1), ('Jennifer Smith', 1), ('Paige Baird', 2), ('Cathy Jones', 1), ('Patricia Johnson', 2), ('Janet Ho', 1), ('Joanne Stevens', 1), ('Catherine Morgan', 1), ('Sandy Hubbard', 1), ('Gabriel Jenkins', 1), ('Denise Romero', 1), ('Jessica Johnson', 1), ('Aaron Jennings', 1), ('Madeline Terry', 2), ('Alex Taylor', 1), ('Christine Campbell', 1), ('Tammy Gardner', 2), ('Amanda Wilcox', 1), ('Maurice Rodriguez', 4), ('Michael Jensen', 1), ('Jeffrey Gilbert', 1), ('Craig Chavez', 1), ('Bradley Allen', 1), ('Alyssa Odom', 1), ('Samantha Clark', 1), ('Teresa Thompson', 1), ('Anna Meyer', 1), ('Elizabeth Simpson', 2), ('Ronald Parker', 1), ('Mark Salazar', 2), ('Teresa Lewis', 1), ('Andrew Nguyen', 1), ('Kelly Williams', 2), ('Jason Nelson', 1), ('Jared Lawson', 1), ('Thomas Jackson', 1), ('Trevor Gilmore', 2), ('Jason Robertson', 1), ('Dylan Franklin', 1), ('Kelsey Vasquez', 1), ('Joseph Jenkins', 1), ('Christopher Levine', 1), ('Jeffrey Johns', 2), ('Autumn Hughes', 2), ('Michelle Berry', 2), ('Alice Perez', 1), ('Richard Hill', 2), ('Rhonda Hanna', 2), ('Edward Jones', 2), ('Peter Yoder', 1), ('John Solomon', 2), ('Elizabeth Gonzalez', 1), ('Molly Meyer', 1), ('Andrea Jones', 1), ('Sarah Walsh', 1), ('Matthew Guzman', 1), ('Ricardo Schmidt', 2), ('Cassandra Smith', 1), ('Richard Hutchinson', 2), ('Michael Clark', 1), ('Catherine Brown', 2), ('Jose Grant', 1), ('Jay Lee', 2), ('Sally Pollard', 1), ('Brendan Porter', 1), ('Christopher Johnson', 1), ('Matthew Molina', 1), ('Kelly Williams', 1), ('Edwin Brown', 1), ('Michael Scott', 1), ('Megan Lane', 2), ('Brandon Erickson', 2), ('Stephen Walker', 1), ('Christopher Garner', 1), ('Dylan Guzman', 1), ('Jesse Gilmore', 1), ('Rachel Wallace', 1), ('Danielle Carey', 2), ('Cynthia Smith', 1), ('Sandra Mckinney', 1), ('Tina Chambers', 3), ('Peter Martin', 1), ('Haley Paul', 2), ('Henry Martin', 1), ('Michael Young', 1), ('Ashley Mccoy', 1), ('Gwendolyn Chaney', 1), ('Christopher Adams', 1), ('Charles Guzman', 2), ('Norma Smith', 1), ('Michael Austin', 1), ('James Alvarado', 2), ('Christopher Silva', 1), ('James Olson', 3), ('Anna Knox', 1), ('Tiffany Dudley', 1), ('Janet Williams', 1), ('Miss Karen Knight', 6), ('Gregory Mitchell DDS', 1), ('Tyrone Long', 1), ('Nicholas Kennedy', 1), ('Robert Wagner', 2), ('John Campbell', 1), ('Anthony Walter MD', 1), ('Amanda Harris', 2), ('Debbie Taylor', 2), ('Valerie Garcia', 2), ('Noah Montoya', 2), ('Laurie Lopez', 1), ('Jessica Calhoun', 1), ('Erika Best', 1), ('Deborah Rivera', 1), ('Katie Cooper', 1), ('Gabriel Conner', 1), ('Andrea Gallegos', 1), ('Cindy Baker', 2), ('Tracy Allison', 1), ('Karen Shields', 1), ('Richard Campbell', 1), ('Dawn Eaton', 1), ('Peggy Jones', 2), ('Erin Hall', 2), ('Shane King', 4), ('Michelle Gomez', 1), ('Alyssa Wallace MD', 1), ('Mrs. Kimberly Castillo', 2), ('Steven Downs', 1), ('Jessica Warren', 1), ('Charles Rose', 1), ('Samuel Weber', 1), ('Beth Griffin', 1), ('Dr. Phyllis Proctor DDS', 2), ('Jane Burch', 1), ('Laura Mack', 1), ('Stephanie Marshall', 3), ('Paul Watts', 1), ('William Oliver', 1), ('Mrs. Kimberly Williams', 1), ('David Solomon', 1), ('Jason Silva', 1), ('Jamie Morgan DVM', 1), ('Joseph Bell', 1), ('Mike Anderson', 2), ('Mark Bryant', 1), ('Cassandra Scott', 2), ('Anthony Colon', 1), ('Destiny Francis', 1), ('Elizabeth Kelly', 1), ('Catherine Massey', 5), ('Taylor Phillips', 2), ('Anthony Williams', 1), ('Tony Gregory', 1), ('Kelsey Robinson', 2), ('Linda Wilson', 1), ('Lisa Thompson', 1), ('Margaret Edwards', 2), ('Virginia Davis', 2), ('Joseph Baker', 1), ('Kelly King', 1), ('Tyler Cross', 1), ('Robert Henderson', 2), ('Michael Wilkins', 2), ('Stephanie Garcia', 2), ('Matthew Rojas', 2), ('Nathaniel Parker', 2), ('Bradley Wilson', 1), ('Holly Sims', 1), ('Jacob Collins', 3), ('John Gomez', 1), ('David Costa', 1), ('Steve Gomez', 1), ('John Shelton', 1), ('Hayley French', 1), ('Jodi Rodriguez', 2), ('Tanya Guerrero', 1), ('Mr. Patrick Scott', 1), ('Benjamin Wolfe', 1), ('Amanda Bender', 2), ('Mr. Robert Johnson', 1), ('Jorge Woods', 1), ('Francisco Williams', 1), ('Jonathan Lawson', 1), ('Darren Wilson', 1), ('Timothy Alvarado', 2), ('Jacob Figueroa', 1), ('Gregory Collins', 3), ('Laura Chase', 1), ('Elizabeth Martinez', 2), ('Taylor Smith', 1), ('Ethan Gregory', 1), ('Kevin Robertson', 1), ('Brandy Franco', 2), ('Laura Martin', 2), ('Nicole Bush', 1), ('Marissa Macias', 1), ('Kelly Cunningham', 1), ('Susan Wright', 1), ('Jennifer Russo', 1), ('Ann Harrison', 1), ('Tracy Richards', 1), ('Robert Gardner', 1), ('Nicholas Weeks', 2), ('Michael Pacheco', 1), ('Michelle Smith', 1), ('Brandon Hernandez', 1), ('Robin Cervantes', 1), ('Mario Bradshaw', 1), ('Amanda Bailey', 1), ('Ashley Simmons', 1), ('Thomas Bennett', 1), ('Regina White', 1), ('Michael Gray', 2), ('Jonathan Cannon', 4), ('Rebekah Gomez', 1), ('Greg Clark', 2), ('William Clarke', 1), ('Michelle Butler', 1), ('Julian Goodman', 1), ('Tina Chapman', 1), ('Mark Medina', 2), ('Teresa Dudley', 1), ('Connie Dominguez', 1), ('Jacqueline Gordon', 1), ('Rebecca Jones', 4), ('Jeffrey May', 2), ('Bradley Ortiz', 1), ('Cynthia Rodriguez', 2), ('Daniel Reed', 2), ('Tyrone Higgins', 2), ('Steven Perez', 2), ('Sharon Mcfarland', 2), ('Christopher Rogers', 2), ('Lori Williamson', 3), ('Danielle Alvarez', 1), ('James Khan', 1), ('Jessica Moore', 1), ('Janet Raymond', 1), ('Nicole Martin', 1), ('Elizabeth Lamb', 1), ('Shannon Olson', 1), ('Ashley George', 1), ('Denise Vance', 1), ('Kaitlyn Hunt', 1), ('Kenneth Hanson', 3), ('Elizabeth Miller', 1), ('Linda Green', 2), ('Richard Baker', 1), ('Kelly Cain', 2), ('Sarah Williams', 1), ('Jordan Ellison', 1), ('Jill Page', 1), ('Francis Lopez', 1), ('Christopher Reed', 1), ('John Garcia', 1), ('Travis Newton', 1), ('Wendy Jones', 1), ('Michael Knox', 2), ('Cynthia Mooney', 1), ('Sarah Hernandez', 1), ('Steven Torres', 2), ('Dale Torres', 1), ('Laura Hodges', 2), ('Melanie Robinson', 1), ('Andrew Hicks', 1), ('Daniel Moore', 1), ('Adrian Morris', 1), ('Mark Ware', 1), ('Cindy Tucker', 3), ('John Neal', 1), ('Timothy Robinson', 1), ('Jason Jenkins', 1), ('Sarah Reynolds', 1), ('Robert Pope', 3), ('Tanya Park', 1), ('Paul Miller', 2), ('Samantha Fritz', 1), ('Brooke Lee PhD', 1), ('Andrew York', 2), ('Lori Cole', 1), ('Douglas Gill', 1), ('Jason Conrad', 4), ('William Carson', 1), ('Nicole Campbell', 2), ('Christian Rowe', 1), ('Ian Rivers', 1), ('Rachel Robinson', 1), ('Ryan Webb', 1), ('Christina Alvarado', 3), ('Brittany White', 3), ('Samantha Mendoza', 1), ('Robin Boyd', 4), ('Scott Case', 1), ('Charles Wagner', 1), ('Nicholas Rios', 1), ('Marcus Hawkins', 1), ('Charles Mcdaniel', 1), ('Amber Lindsey', 1), ('Manuel Morales', 1), ('Edward Weaver', 1), ('Brenda Gardner', 1), ('Zachary Anderson', 1), ('Aaron Owen', 1), ('Scott Lee', 1), ('Antonio French', 1), ('Carl Carroll MD', 1), ('Donald Henry', 1), ('Abigail Tapia', 1), ('Erica Cooper', 1), ('Brian Anderson', 1), ('Chase Gray', 2), ('Thomas Velazquez', 1), ('Erika Mcbride', 3), ('Michael Good', 1), ('Ruth Ochoa', 1), ('Alyssa Hoover', 1), ('Michael Nicholson', 1), ('Douglas Miranda', 2), ('Wanda Morgan', 1), ('Anna Montgomery', 1), ('Michelle Wallace', 1), ('Alexandra Washington', 1), ('Shawn Watts', 2), ('Wesley Freeman', 1), ('Sharon Diaz', 1), ('Regina Davis', 1), ('Terry Nguyen', 2), ('Debra Warren', 1), ('Paula Hendrix', 1), ('Robert Jacobs', 2), ('Jose Young', 1), ('James Schmidt', 1), ('Bobby Carter', 1), ('Robert Turner DDS', 1), ('David Ferguson', 2), ('Amanda Byrd', 1), ('Megan Boyle', 1), ('Evelyn Murphy', 1), ('Steven Pacheco', 1), ('Mark Weiss', 3), ('Kyle Bolton', 2), ('Kevin Weaver', 3), ('Trevor Vasquez', 3), ('Vicki Harris', 1), ('David Harris', 4), ('Paul Sanders', 1), ('Taylor Williams', 2), ('Jennifer Atkins', 1), ('Bethany Woods', 2), ('Michael Buck', 1), ('Samantha Williams', 1), ('Jessica Nelson', 3), ('Jonathan Hall', 1), ('Laura Mckenzie', 2), ('Barbara Lopez MD', 1), ('Ryan Myers', 2), ('Jennifer Frederick', 1), ('Christine Massey', 1), ('Chris Lam', 2), ('Jennifer Gillespie', 1), ('Jason Sandoval', 3), ('Luke Flores', 1), ('Connie Ford', 1), ('Amber Howard', 1), ('Grant Clark', 1), ('Phyllis Sharp', 1), ('Randy Gutierrez', 2), ('David Baker', 1), ('Jodi Sanford', 1), ('James Suarez', 1), ('Erica Wilson', 1), ('Julie Richardson', 1), ('Vickie Church', 1), ('Mackenzie Wheeler', 1), ('James Green', 2), ('Ruben Johnson', 2), ('Christopher Horne', 1), ('William Evans', 1), ('Patrick Miller', 2), ('Shannon Lyons MD', 1), ('Christopher Sutton', 1), ('Jenny Nelson', 1), ('Albert Kelly', 1), ('Samantha Cook', 2), ('Michael Hudson', 1), ('Anthony Jones', 1), ('Anthony Harmon', 1), ('James King', 1), ('Amber Knight', 1), ('Cindy Smith', 1), ('Vincent Lee', 2), ('Mrs. Linda Taylor DDS', 1), ('Brandon Estrada', 1), ('Joseph Cooper', 1), ('Jose Garcia', 1), ('Holly Conley', 1), ('Curtis Gibbs', 1), ('Madison Davis', 1), ('John Jones', 1), ('Rebecca Bell', 1), ('Jennifer Cruz', 2), ('Suzanne Alvarado', 1), ('Julie Barnes', 3), ('David Webb', 2), ('Stephanie Spencer', 1), ('Mackenzie Patterson', 1), ('Kyle Olson', 1), ('Megan Sims', 1), ('Brent Calhoun', 1), ('Oscar Jackson', 2), ('Joseph Bell', 1), ('Carrie Palmer', 1), ('Natalie Miller', 2), ('Todd Gomez', 1), ('Dylan Green', 1), ('Francisco Leon', 2), ('Evan Jackson', 1), ('Natalie Guzman', 2), ('Karen Lewis', 1), ('Jessica Sanders', 1), ('Christopher Wagner', 1), ('Ruth Morse', 3), ('Eric Thompson', 1), ('Lori Lee', 2), ('Kimberly Nichols', 1), ('Adrienne Edwards', 1), ('Raymond Burton', 1), ('Laurie Stuart', 1), ('Jose Morrison', 2), ('Tiffany Gonzalez MD', 1), ('Melinda Gilmore', 1), ('Benjamin Li', 2), ('Mario Wood', 1), ('Kelly Gonzalez', 1), ('John Wallace DDS', 1), ('Donna Brown', 1), ('Autumn Miller', 2), ('Ronald Johnson', 3), ('Vanessa Oconnell', 1), ('April Morrison', 1), ('Michael Smith', 1), ('Shawn Rodriguez', 1), ('William Rivera', 2), ('Justin Mccall', 4), ('Gary Silva', 1), ('Parker Cruz', 2), ('Christopher Hughes', 2), ('Amanda Rivas', 2), ('Christopher Rice', 1), ('Kelly Green', 2), ('Lisa Davis', 1), ('Joel Leonard', 1), ('Courtney Wolf', 1), ('John Sweeney', 2), ('Anna White', 2), ('Jason White', 3), ('Hannah Wilcox', 1), ('Michael Harrington', 1), ('Dustin Barker', 1), ('Jason Owens', 1), ('Timothy Bauer', 2), ('Robert Foster', 1), ('Elizabeth Cox', 1), ('Jack Brown', 3), ('Bradley Miller', 1), ('Melissa Johnson', 2), ('Brian Campbell DDS', 1), ('William Bradshaw', 2), ('Maurice Peters', 1), ('Brian Porter', 1), ('David Reynolds', 1), ('Javier Sanders', 1), ('Todd Thomas', 1), ('Brenda Powell', 1), ('Kerri Marsh', 1), ('Carol Edwards', 1), ('James Harrington', 1), ('Roy Garcia', 1), ('Brandy Singh', 1), ('Chad Walker', 1), ('Theresa Marquez', 1), ('Sandra Montes', 2), ('Katherine Fox', 1), ('Andrew Andrews', 1), ('Anthony Brooks', 1), ('Paula Holland', 1), ('Jordan Payne', 1), ('Andrew Garcia', 2), ('Robert Gomez', 2), ('Stacy Hicks', 2), ('Jennifer Olson', 2), ('Christina Reeves', 1), ('Stephanie Simmons', 3), ('Rebecca Dennis', 1), ('Nicole Norman', 2), ('Christopher Johnson', 1), ('Javier Mendez', 2), ('Thomas Herman', 2), ('Sabrina Jackson', 1), ('James Williams', 2), ('Jay Mercer Jr.', 1), ('Whitney White', 2), ('John Adams', 1), ('John Torres', 1), ('Hannah Long', 1), ('Andrea Donovan', 2), ('Matthew Lee', 1), ('Jessica Roberts', 1), ('Mr. John Becker', 1), ('Jessica Colon', 2), ('Michael Walker', 1), ('Phillip Jones', 1), ('Barry Ballard', 2), ('Manuel Park', 1), ('David Murphy', 1), ('Lori Lin', 1), ('Kristy Hendricks', 1), ('Jeffrey Baldwin', 1), ('Amy Bruce', 3), ('Mary Morris', 1), ('Stephanie Holloway', 1), ('Brian Smith', 1), ('Christopher Torres', 1), ('Kristin Johnson', 1), ('Joseph Reeves', 2), ('Mark Cherry', 1), ('Jenna Bryant', 2), ('Taylor Newton', 1), ('Holly Farrell', 1), ('Joanne Reynolds', 1), ('Jeffrey Ball', 1), ('William Smith', 1), ('Scott Jackson', 2), ('Stacy Price', 1), ('Michael Gray', 1), ('Michael Henson', 1), ('Daniel Brown', 1), ('Gabriel Griffin', 2), ('Helen Hughes', 1), ('Crystal Nelson', 1), ('Caleb Mendoza', 1), ('Barbara Garcia', 1), ('Robert Watson', 1), ('James Anderson', 1), ('Julie Garrett', 1), ('John Yang', 2), ('Jorge Rhodes', 1), ('Tiffany Brown', 1), ('Sarah Mason', 1), ('Natasha Rivera', 1), ('Heather Coleman', 1), ('Trevor White', 2), ('Joanna Garcia', 1), ('Dale Bell', 1), ('Stephanie Patterson', 2), ('Sara Horne', 1), ('Heather Short', 1), ('Carlos Dean', 1), ('Elizabeth Graham', 1), ('Scott Evans', 1), ('Theresa Rollins', 1), ('Bobby Nelson DDS', 1), ('Ashley Diaz', 1), ('Brian Wyatt', 2), ('Melissa Perez', 3), ('Victor Riddle', 1), ('Sandra Hughes', 1), ('Daniel Tyler', 1), ('John Barry', 3), ('Spencer Ray', 1), ('Lisa Wilson', 1), ('Reginald Rodriguez', 1), ('Wanda Miller', 1), ('Karen Prince', 1), ('Deborah Jones', 2), ('Danielle Leonard', 1), ('Patrick Sanders', 2), ('Mindy Brooks', 1), ('Jacqueline Conrad', 1), ('Jeff Mitchell', 1), ('Maureen Lutz', 1), ('Stephanie Austin', 1), ('James Jones', 3), ('Brenda Robbins', 1), ('Cheryl Hamilton', 3), ('Jennifer Jackson', 3), ('Robert Ramirez', 1), ('Jessica Bell', 2), ('Vanessa Washington', 1), ('Judy Stewart', 1), ('Jamie Mcknight', 1), ('Joshua Mcmahon', 1), ('Regina Lynn', 1), ('Traci Sanchez', 1), ('Kevin Shepard', 1), ('Karen Lucero', 2), ('Nicholas Cook', 2), ('Michelle Harrington', 2), ('Deborah Alexander', 1), ('Morgan Anderson', 1), ('Nicholas Stephens', 1), ('James White', 1), ('Jennifer Murray', 1), ('Sara Tanner', 2), ('Timothy Edwards', 3), ('Andrea Moreno', 2), ('Heather Jordan', 1), ('Connor Ford', 2), ('Sarah West', 2), ('Jonathan Cordova', 3), ('Jacob Cooper', 1), ('Angela Brown', 2), ('Sarah Walsh', 1), ('Alexander Smith', 2), ('Kimberly Rich', 2), ('Mrs. Heather Wilkerson', 1), ('Wayne Walter', 1), ('James Williams', 1), ('Barbara King', 1), ('Brittany Brown', 2), ('Laurie Simpson', 1), ('Linda Johnson', 1), ('Donna Schmidt', 1), ('Jon Sanchez', 1), ('Mr. Allen Hamilton Jr.', 3), ('Walter Fuller', 1), ('Lori Duncan', 1), ('Nicholas Evans', 1), ('Marisa Taylor', 1), ('Miranda Paul', 1), ('Mr. Gregory Morgan', 1), ('Charles Baker', 1), ('Sandra Boyle', 1), ('Allison Miles', 3), ('Jennifer Williamson', 1), ('Tina Thompson', 1), ('Amanda Davis', 2), ('Elizabeth Klein', 1), ('Laura Ferguson', 1), ('Justin Martinez', 1), ('Eileen Ramirez', 1), ('Randall Barrett', 1), ('Heidi Mcfarland', 1), ('David Cox', 2), ('Betty Romero', 1), ('Susan Smith', 2), ('Jennifer Morse', 1), ('Billy Stokes', 1), ('Michael Gibbs', 1), ('Jessica Hamilton', 2), ('Gregory Robles', 2), ('Trevor Martinez', 1), ('Bonnie Weeks', 1), ('Jill Smith', 3), ('Kayla Leach', 2), ('David Stephens', 2), ('Megan Moss', 2), ('Courtney Morris', 2), ('Stacy Rojas', 1), ('James Flores', 1), ('Larry Stephens', 1), ('Gary Rose', 1), ('Patrick Davis', 1), ('Timothy Giles', 1), ('Oscar Johnston', 1), ('Jerry Collins', 3), ('Erik Robinson', 2), ('William Robinson', 1), ('Bobby King', 3)]\u001b[0m\u001b[32;1m\u001b[1;3mThere are multiple users who have placed orders. Here are a few users along with the number of orders they have placed:\n",
      "\n",
      "1. Marvin Mejia - 2 orders\n",
      "2. Vanessa Young - 1 order\n",
      "3. Elizabeth Holmes - 3 orders\n",
      "4. Laura Hunter - 1 order\n",
      "5. Darren Mullins - 1 order\n",
      "\n",
      "This list continues with more users and their respective order counts.\u001b[0m\n",
      "\n",
      "\u001b[1m> Finished chain.\u001b[0m\n"
     ]
    },
    {
     "data": {
      "text/plain": [
       "{'input': 'how many orders by users and also fetch names of users?',\n",
       " 'output': 'There are multiple users who have placed orders. Here are a few users along with the number of orders they have placed:\\n\\n1. Marvin Mejia - 2 orders\\n2. Vanessa Young - 1 order\\n3. Elizabeth Holmes - 3 orders\\n4. Laura Hunter - 1 order\\n5. Darren Mullins - 1 order\\n\\nThis list continues with more users and their respective order counts.'}"
      ]
     },
     "execution_count": 14,
     "metadata": {},
     "output_type": "execute_result"
    }
   ],
   "source": [
    "agent_executor(\"How many users provided shipping address?\")"
   ]
  },
  {
   "cell_type": "markdown",
   "metadata": {},
   "source": []
  }
 ],
 "metadata": {
  "kernelspec": {
   "display_name": ".venv",
   "language": "python",
   "name": "python3"
  },
  "language_info": {
   "codemirror_mode": {
    "name": "ipython",
    "version": 3
   },
   "file_extension": ".py",
   "mimetype": "text/x-python",
   "name": "python",
   "nbconvert_exporter": "python",
   "pygments_lexer": "ipython3",
   "version": "3.10.10"
  }
 },
 "nbformat": 4,
 "nbformat_minor": 2
}
