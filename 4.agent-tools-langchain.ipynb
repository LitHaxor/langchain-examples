{
 "cells": [
  {
   "cell_type": "markdown",
   "metadata": {},
   "source": [
    "# Agents and Tools"
   ]
  },
  {
   "cell_type": "markdown",
   "metadata": {},
   "source": [
    "#### ChatGPT Functions"
   ]
  },
  {
   "cell_type": "code",
   "execution_count": 5,
   "metadata": {},
   "outputs": [],
   "source": [
    "import sqlite3\n",
    "conn = sqlite3.connect('db.sqlite')"
   ]
  },
  {
   "cell_type": "code",
   "execution_count": 6,
   "metadata": {},
   "outputs": [],
   "source": [
    "def run_query(query:str):\n",
    "    cursor = conn.cursor()\n",
    "    try:\n",
    "        cursor.execute(query)\n",
    "        conn.commit()\n",
    "        return cursor.fetchall()\n",
    "    except sqlite3.OperationalError as err:\n",
    "        return f\"The following error occurred: {str(err)}\"\n",
    "    \n",
    "def describe_tables(tables_names):\n",
    "    print(\"tables_names\", tables_names)\n",
    "    c = conn.cursor()\n",
    "    tables = ', '.join(\"'\" + table + \"'\" for table in tables_names)\n",
    "    query = f\"SELECT sql FROM sqlite_master WHERE type='table' and name in ({tables});\"\n",
    "    rows = c.execute(query) \n",
    "    formated = '\\n'.join(row[0] for row in rows if row[0] is not None)\n",
    "    return formated\n",
    "\n"
   ]
  },
  {
   "cell_type": "markdown",
   "metadata": {},
   "source": [
    "## Making Custom Schema"
   ]
  },
  {
   "cell_type": "code",
   "execution_count": 7,
   "metadata": {},
   "outputs": [],
   "source": [
    "from pydantic.v1 import BaseModel\n",
    "\n",
    "class RunQueryArgsSchema(BaseModel):\n",
    "    query: str\n",
    "\n",
    "class DescribeTablesArgsSchema(BaseModel):\n",
    "    tables_names: list[str]"
   ]
  },
  {
   "cell_type": "code",
   "execution_count": 8,
   "metadata": {},
   "outputs": [],
   "source": [
    "from langchain.tools import Tool\n",
    "\n",
    "\n",
    "run_query_tool = Tool.from_function(\n",
    "    name=\"run_sqlite_query\",\n",
    "    description=\"\"\"\n",
    "    run a query on the sqlite database\n",
    "    \"\"\",\n",
    "    func=run_query,\n",
    "    args_schema=RunQueryArgsSchema,\n",
    ")\n",
    "\n",
    "describe_tables_tool = Tool.from_function(\n",
    "    name=\"describe_tables\",\n",
    "    description=\"\"\"\n",
    "    Given a list of tables name, return the tables that are present in the database\n",
    "    \"\"\",\n",
    "    func=describe_tables,\n",
    "    args_schema=DescribeTablesArgsSchema,\n",
    ")"
   ]
  },
  {
   "cell_type": "code",
   "execution_count": 9,
   "metadata": {},
   "outputs": [
    {
     "data": {
      "text/plain": [
       "True"
      ]
     },
     "execution_count": 9,
     "metadata": {},
     "output_type": "execute_result"
    }
   ],
   "source": [
    "from langchain_openai import ChatOpenAI\n",
    "from langchain.prompts import (\n",
    "    ChatPromptTemplate,\n",
    "    HumanMessagePromptTemplate,\n",
    "    MessagesPlaceholder\n",
    ")\n",
    "from langchain.agents import OpenAIFunctionsAgent, AgentExecutor\n",
    "from dotenv import load_dotenv\n",
    "from langchain.schema import SystemMessage\n",
    "load_dotenv()\n"
   ]
  },
  {
   "cell_type": "code",
   "execution_count": 10,
   "metadata": {},
   "outputs": [],
   "source": [
    "def list_list_tables():\n",
    "    c = conn.cursor()\n",
    "    c.execute(\"SELECT name FROM sqlite_master WHERE type='table';\")\n",
    "    rows = c.fetchall() \n",
    "    return \"\\n\".join(row[0] for row in rows if row[0] is not None)\n"
   ]
  },
  {
   "cell_type": "code",
   "execution_count": 11,
   "metadata": {},
   "outputs": [],
   "source": [
    "chat = ChatOpenAI(\n",
    "    model='gpt-3.5-turbo',\n",
    ")\n",
    "\n",
    "tables = list_list_tables()\n",
    "\n",
    "\n",
    "\n",
    "chat_prompt = ChatPromptTemplate(\n",
    "    messages =[\n",
    "        SystemMessage(\n",
    "            content=f\"You are an AI that has access to SQLite database.\\n The database has tables of:\\n {tables}.\\n Do not make any assumptions about the what tables exist or what colums exist. Instead use the 'describe_tables' function.\"\n",
    "        ),\n",
    "        HumanMessagePromptTemplate.from_template(\"{input}\"),\n",
    "        MessagesPlaceholder(variable_name=\"agent_scratchpad\")\n",
    "    ]\n",
    ")"
   ]
  },
  {
   "cell_type": "code",
   "execution_count": 12,
   "metadata": {},
   "outputs": [],
   "source": [
    "tools = [run_query_tool, describe_tables_tool]\n",
    "\n",
    "agent = OpenAIFunctionsAgent(\n",
    "    llm=chat,\n",
    "    prompt=chat_prompt,\n",
    "    tools=tools,\n",
    ")\n",
    "\n",
    "agent_executor = AgentExecutor(\n",
    "    agent=agent,\n",
    "    verbose=True,\n",
    "    tools=tools,\n",
    ")\n"
   ]
  },
  {
   "cell_type": "code",
   "execution_count": 13,
   "metadata": {},
   "outputs": [
    {
     "name": "stdout",
     "output_type": "stream",
     "text": [
      "\n",
      "\n",
      "\u001b[1m> Entering new AgentExecutor chain...\u001b[0m\n",
      "\u001b[32;1m\u001b[1;3m\n",
      "Invoking: `describe_tables` with `{'tables_names': ['users']}`\n",
      "\n",
      "\n",
      "\u001b[0mtables_names ['users']\n",
      "\u001b[33;1m\u001b[1;3mCREATE TABLE users (\n",
      "    id INTEGER PRIMARY KEY,\n",
      "    name TEXT,\n",
      "    email TEXT UNIQUE,\n",
      "    password TEXT\n",
      "    )\u001b[0m\u001b[32;1m\u001b[1;3m\n",
      "Invoking: `run_sqlite_query` with `{'query': 'SELECT COUNT(*) FROM users'}`\n",
      "\n",
      "\n",
      "\u001b[0m\u001b[36;1m\u001b[1;3m[(2000,)]\u001b[0m\u001b[32;1m\u001b[1;3mThere are 2000 users in the database.\u001b[0m\n",
      "\n",
      "\u001b[1m> Finished chain.\u001b[0m\n"
     ]
    },
    {
     "data": {
      "text/plain": [
       "{'input': 'How many users are in the database?',\n",
       " 'output': 'There are 2000 users in the database.'}"
      ]
     },
     "execution_count": 13,
     "metadata": {},
     "output_type": "execute_result"
    }
   ],
   "source": [
    "agent_executor(\"How many users are in the database?\")"
   ]
  },
  {
   "cell_type": "code",
   "execution_count": 14,
   "metadata": {},
   "outputs": [
    {
     "name": "stdout",
     "output_type": "stream",
     "text": [
      "\n",
      "\n",
      "\u001b[1m> Entering new AgentExecutor chain...\u001b[0m\n",
      "\u001b[32;1m\u001b[1;3m\n",
      "Invoking: `describe_tables` with `{'tables_names': ['users', 'addresses']}`\n",
      "\n",
      "\n",
      "\u001b[0mtables_names ['users', 'addresses']\n",
      "\u001b[33;1m\u001b[1;3mCREATE TABLE users (\n",
      "    id INTEGER PRIMARY KEY,\n",
      "    name TEXT,\n",
      "    email TEXT UNIQUE,\n",
      "    password TEXT\n",
      "    )\n",
      "CREATE TABLE addresses (\n",
      "    id INTEGER PRIMARY KEY,\n",
      "    user_id INTEGER,\n",
      "    address TEXT\n",
      "    )\u001b[0m\u001b[32;1m\u001b[1;3m\n",
      "Invoking: `run_sqlite_query` with `{'query': 'SELECT COUNT(DISTINCT user_id) FROM addresses'}`\n",
      "\n",
      "\n",
      "\u001b[0m\u001b[36;1m\u001b[1;3m[(2000,)]\u001b[0m\u001b[32;1m\u001b[1;3mThere are 2000 users who have provided a shipping address.\u001b[0m\n",
      "\n",
      "\u001b[1m> Finished chain.\u001b[0m\n"
     ]
    },
    {
     "data": {
      "text/plain": [
       "{'input': 'How many users provided shipping address?',\n",
       " 'output': 'There are 2000 users who have provided a shipping address.'}"
      ]
     },
     "execution_count": 14,
     "metadata": {},
     "output_type": "execute_result"
    }
   ],
   "source": [
    "agent_executor(\"How many users provided shipping address?\")"
   ]
  },
  {
   "cell_type": "markdown",
   "metadata": {},
   "source": [
    "## Report maker"
   ]
  },
  {
   "cell_type": "code",
   "execution_count": 15,
   "metadata": {},
   "outputs": [],
   "source": [
    "from langchain.tools import StructuredTool"
   ]
  },
  {
   "cell_type": "code",
   "execution_count": 16,
   "metadata": {},
   "outputs": [],
   "source": [
    "class ReportHTMLArgsSchema(BaseModel):\n",
    "    filename: str\n",
    "    html: str"
   ]
  },
  {
   "cell_type": "code",
   "execution_count": 17,
   "metadata": {},
   "outputs": [],
   "source": [
    "def write_report_html(filename:str, html:str):\n",
    "    with open(filename, \"w\") as f:\n",
    "        f.write(html)\n",
    "    return f\"Report saved to {filename}\""
   ]
  },
  {
   "cell_type": "code",
   "execution_count": 18,
   "metadata": {},
   "outputs": [],
   "source": [
    "write_report_tool = StructuredTool.from_function(\n",
    "    name=\"write_report\",\n",
    "    description=\"Write and HTML file to disk. use this tool whenever asked for a report\",\n",
    "    func=write_report_html,\n",
    "    args_schema=ReportHTMLArgsSchema\n",
    ")"
   ]
  },
  {
   "cell_type": "code",
   "execution_count": 19,
   "metadata": {},
   "outputs": [],
   "source": [
    "tools_with_html = tools + [write_report_tool]\n",
    "\n",
    "\n",
    "html_agent = OpenAIFunctionsAgent(\n",
    "    llm=chat,\n",
    "    prompt=chat_prompt,\n",
    "    tools=tools_with_html,\n",
    ")\n",
    "\n",
    "html_agent_executor = AgentExecutor(\n",
    "    agent=html_agent,\n",
    "    verbose=True,\n",
    "    tools=tools_with_html,\n",
    ")\n",
    "\n"
   ]
  },
  {
   "cell_type": "code",
   "execution_count": 20,
   "metadata": {},
   "outputs": [
    {
     "name": "stdout",
     "output_type": "stream",
     "text": [
      "\n",
      "\n",
      "\u001b[1m> Entering new AgentExecutor chain...\u001b[0m\n",
      "\u001b[32;1m\u001b[1;3m\n",
      "Invoking: `describe_tables` with `{'tables_names': ['products', 'order_products']}`\n",
      "\n",
      "\n",
      "\u001b[0mtables_names ['products', 'order_products']\n",
      "\u001b[33;1m\u001b[1;3mCREATE TABLE products (\n",
      "    id INTEGER PRIMARY KEY,\n",
      "    name TEXT,\n",
      "    price REAL\n",
      "    )\n",
      "CREATE TABLE order_products (\n",
      "    id INTEGER PRIMARY KEY,\n",
      "    order_id INTEGER,\n",
      "    product_id INTEGER,\n",
      "    amount INTEGER\n",
      "    )\u001b[0m\u001b[32;1m\u001b[1;3m\n",
      "Invoking: `run_sqlite_query` with `{'query': 'SELECT product_id, SUM(amount) AS total_amount FROM order_products GROUP BY product_id ORDER BY total_amount DESC LIMIT 5'}`\n",
      "\n",
      "\n",
      "\u001b[0m\u001b[36;1m\u001b[1;3m[(3929, 62), (1657, 55), (866, 55), (1437, 53), (3192, 52)]\u001b[0m\u001b[32;1m\u001b[1;3m\n",
      "Invoking: `describe_tables` with `{'tables_names': ['products']}`\n",
      "\n",
      "\n",
      "\u001b[0mtables_names ['products']\n",
      "\u001b[33;1m\u001b[1;3mCREATE TABLE products (\n",
      "    id INTEGER PRIMARY KEY,\n",
      "    name TEXT,\n",
      "    price REAL\n",
      "    )\u001b[0m\u001b[32;1m\u001b[1;3m\n",
      "Invoking: `run_sqlite_query` with `{'query': 'SELECT id, name FROM products WHERE id IN (3929, 1657, 866, 1437, 3192)'}`\n",
      "\n",
      "\n",
      "\u001b[0m\u001b[36;1m\u001b[1;3m[(866, 'Ball'), (1437, 'Refined Chips'), (1657, 'Rubber Mouse'), (3192, 'Generic Ball'), (3929, 'Unbranded Pizza')]\u001b[0m\u001b[32;1m\u001b[1;3m\n",
      "Invoking: `write_report` with `{'filename': 'report.html', 'html': '<h1>Top 5 Most Popular Products</h1><ol><li>Unbranded Pizza - 62 orders</li><li>Rubber Mouse - 55 orders</li><li>Ball - 55 orders</li><li>Refined Chips - 53 orders</li><li>Generic Ball - 52 orders</li></ol>'}`\n",
      "\n",
      "\n",
      "\u001b[0m\u001b[38;5;200m\u001b[1;3mReport saved to report.html\u001b[0m\u001b[32;1m\u001b[1;3mI have summarized the top 5 most popular products based on the total amount ordered. The report has been saved to 'report.html'.\u001b[0m\n",
      "\n",
      "\u001b[1m> Finished chain.\u001b[0m\n"
     ]
    },
    {
     "data": {
      "text/plain": [
       "{'input': \"Summerize top 5 most popular products and save the report to 'report.html'\",\n",
       " 'output': \"I have summarized the top 5 most popular products based on the total amount ordered. The report has been saved to 'report.html'.\"}"
      ]
     },
     "execution_count": 20,
     "metadata": {},
     "output_type": "execute_result"
    }
   ],
   "source": [
    "\n",
    "html_agent_executor(\"Summerize top 5 most popular products and save the report to 'report.html'\")"
   ]
  },
  {
   "cell_type": "markdown",
   "metadata": {},
   "source": [
    "## Agent Scratchpad vs Memory"
   ]
  },
  {
   "cell_type": "code",
   "execution_count": 21,
   "metadata": {},
   "outputs": [],
   "source": [
    "from langchain.memory import ConversationBufferMemory"
   ]
  },
  {
   "cell_type": "code",
   "execution_count": 35,
   "metadata": {},
   "outputs": [],
   "source": [
    "memory = ConversationBufferMemory(\n",
    "    memory_key=\"chat_history\",\n",
    "    return_messages=True\n",
    ")"
   ]
  },
  {
   "cell_type": "code",
   "execution_count": 36,
   "metadata": {},
   "outputs": [],
   "source": [
    "memory_prompt = ChatPromptTemplate(\n",
    "    messages =[\n",
    "        SystemMessage(\n",
    "            content=f\"You are an AI that has access to SQLite database.\\n The database has tables of:\\n {tables}.\\n Do not make any assumptions about the what tables exist or what colums exist. Instead use the 'describe_tables' function.\"\n",
    "        ),\n",
    "        MessagesPlaceholder(variable_name=\"chat_history\"),\n",
    "        HumanMessagePromptTemplate.from_template(\"{input}\"),\n",
    "        MessagesPlaceholder(variable_name=\"agent_scratchpad\"),\n",
    "  \n",
    "    ]\n",
    ")"
   ]
  },
  {
   "cell_type": "code",
   "execution_count": 37,
   "metadata": {},
   "outputs": [],
   "source": [
    "memory_agent = OpenAIFunctionsAgent(\n",
    "    llm=chat,\n",
    "    prompt=memory_prompt,\n",
    "    tools=tools_with_html,\n",
    "    memory=memory\n",
    ")"
   ]
  },
  {
   "cell_type": "code",
   "execution_count": 38,
   "metadata": {},
   "outputs": [],
   "source": [
    "memory_agent_executor = AgentExecutor(\n",
    "    agent=memory_agent,\n",
    "    verbose=True,\n",
    "    tools=tools_with_html,\n",
    "    memory=memory\n",
    ")"
   ]
  },
  {
   "cell_type": "code",
   "execution_count": 39,
   "metadata": {},
   "outputs": [
    {
     "name": "stdout",
     "output_type": "stream",
     "text": [
      "\n",
      "\n",
      "\u001b[1m> Entering new AgentExecutor chain...\u001b[0m\n",
      "\u001b[32;1m\u001b[1;3m\n",
      "Invoking: `describe_tables` with `{'tables_names': ['users']}`\n",
      "\n",
      "\n",
      "\u001b[0mtables_names ['users']\n",
      "\u001b[33;1m\u001b[1;3mCREATE TABLE users (\n",
      "    id INTEGER PRIMARY KEY,\n",
      "    name TEXT,\n",
      "    email TEXT UNIQUE,\n",
      "    password TEXT\n",
      "    )\u001b[0m\u001b[32;1m\u001b[1;3m\n",
      "Invoking: `run_sqlite_query` with `{'query': 'SELECT COUNT(*) FROM users'}`\n",
      "\n",
      "\n",
      "\u001b[0m\u001b[36;1m\u001b[1;3m[(2000,)]\u001b[0m\u001b[32;1m\u001b[1;3mThere are 2000 users in the database.\u001b[0m\n",
      "\n",
      "\u001b[1m> Finished chain.\u001b[0m\n"
     ]
    },
    {
     "data": {
      "text/plain": [
       "{'input': 'How many users are in the database?',\n",
       " 'chat_history': [HumanMessage(content='How many users are in the database?'),\n",
       "  AIMessage(content='There are 2000 users in the database.')],\n",
       " 'output': 'There are 2000 users in the database.'}"
      ]
     },
     "execution_count": 39,
     "metadata": {},
     "output_type": "execute_result"
    }
   ],
   "source": [
    "memory_agent_executor(\"How many users are in the database?\")\n"
   ]
  },
  {
   "cell_type": "code",
   "execution_count": 40,
   "metadata": {},
   "outputs": [
    {
     "name": "stdout",
     "output_type": "stream",
     "text": [
      "\n",
      "\n",
      "\u001b[1m> Entering new AgentExecutor chain...\u001b[0m\n",
      "\u001b[32;1m\u001b[1;3m\n",
      "Invoking: `describe_tables` with `{'tables_names': ['orders']}`\n",
      "\n",
      "\n",
      "\u001b[0mtables_names ['orders']\n",
      "\u001b[33;1m\u001b[1;3mCREATE TABLE orders (\n",
      "    id INTEGER PRIMARY KEY,\n",
      "    user_id INTEGER,\n",
      "    created TEXT\n",
      "    )\u001b[0m\u001b[32;1m\u001b[1;3m\n",
      "Invoking: `run_sqlite_query` with `{'query': 'SELECT COUNT(*) FROM orders'}`\n",
      "responded: The orders table has the following columns:\n",
      "- id (INTEGER PRIMARY KEY)\n",
      "- user_id (INTEGER)\n",
      "- created (TEXT)\n",
      "\n",
      "I will now proceed to count the number of orders in the orders table.\n",
      "\n",
      "\u001b[0m\u001b[36;1m\u001b[1;3m[(1500,)]\u001b[0m\u001b[32;1m\u001b[1;3mThere are 1500 orders in the orders table.\u001b[0m\n",
      "\n",
      "\u001b[1m> Finished chain.\u001b[0m\n"
     ]
    },
    {
     "data": {
      "text/plain": [
       "{'input': 'Repeat the exact same process for orders table',\n",
       " 'chat_history': [HumanMessage(content='How many users are in the database?'),\n",
       "  AIMessage(content='There are 2000 users in the database.'),\n",
       "  HumanMessage(content='Repeat the exact same process for orders table'),\n",
       "  AIMessage(content='There are 1500 orders in the orders table.')],\n",
       " 'output': 'There are 1500 orders in the orders table.'}"
      ]
     },
     "execution_count": 40,
     "metadata": {},
     "output_type": "execute_result"
    }
   ],
   "source": [
    "memory_agent_executor(\"Repeat the exact same process for orders table\")"
   ]
  }
 ],
 "metadata": {
  "kernelspec": {
   "display_name": ".venv",
   "language": "python",
   "name": "python3"
  },
  "language_info": {
   "codemirror_mode": {
    "name": "ipython",
    "version": 3
   },
   "file_extension": ".py",
   "mimetype": "text/x-python",
   "name": "python",
   "nbconvert_exporter": "python",
   "pygments_lexer": "ipython3",
   "version": "3.10.10"
  }
 },
 "nbformat": 4,
 "nbformat_minor": 2
}
