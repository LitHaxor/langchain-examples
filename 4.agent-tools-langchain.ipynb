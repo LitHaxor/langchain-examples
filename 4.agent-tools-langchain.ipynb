{
 "cells": [
  {
   "cell_type": "markdown",
   "metadata": {},
   "source": [
    "# Agents and Tools"
   ]
  },
  {
   "cell_type": "markdown",
   "metadata": {},
   "source": [
    "#### ChatGPT Functions"
   ]
  },
  {
   "cell_type": "code",
   "execution_count": 176,
   "metadata": {},
   "outputs": [],
   "source": [
    "import sqlite3\n",
    "conn = sqlite3.connect('db.sqlite')"
   ]
  },
  {
   "cell_type": "code",
   "execution_count": 168,
   "metadata": {},
   "outputs": [],
   "source": [
    "def run_query(query:str):\n",
    "    cursor = conn.cursor()\n",
    "    try:\n",
    "        cursor.execute(query)\n",
    "        conn.commit()\n",
    "        return cursor.fetchall()\n",
    "    except sqlite3.OperationalError as err:\n",
    "        return f\"The following error occurred: {str(err)}\"\n",
    "    \n",
    "def describe_tables(tables_names):\n",
    "    print(\"tables_names\", tables_names)\n",
    "    c = conn.cursor()\n",
    "    tables = ', '.join(\"'\" + table + \"'\" for table in tables_names)\n",
    "    query = f\"SELECT sql FROM sqlite_master WHERE type='table' and name in ({tables});\"\n",
    "    rows = c.execute(query) \n",
    "    formated = '\\n'.join(row[0] for row in rows if row[0] is not None)\n",
    "    return formated\n",
    "\n"
   ]
  },
  {
   "cell_type": "markdown",
   "metadata": {},
   "source": [
    "## Making Custom Schema"
   ]
  },
  {
   "cell_type": "code",
   "execution_count": null,
   "metadata": {},
   "outputs": [],
   "source": [
    "from pydantic import BaseModel\n",
    "\n",
    "class RunQueryArgsSchema(BaseModel):\n",
    "    query: str\n",
    "\n",
    "class DescribeTablesArgsSchema(BaseModel):\n",
    "    tables_names: list[str]"
   ]
  },
  {
   "cell_type": "code",
   "execution_count": 169,
   "metadata": {},
   "outputs": [],
   "source": [
    "from langchain.tools import Tool\n",
    "\n",
    "\n",
    "run_query_tool = Tool.from_function(\n",
    "    name=\"run_sqlite_query\",\n",
    "    description=\"\"\"\n",
    "    run a query on the sqlite database\n",
    "    \"\"\",\n",
    "    func=run_query,\n",
    "    args_schema=RunQueryArgsSchema,\n",
    ")\n",
    "\n",
    "describe_tables_tool = Tool.from_function(\n",
    "    name=\"describe_tables\",\n",
    "    description=\"\"\"\n",
    "    Given a list of tables name, return the tables that are present in the database\n",
    "    \"\"\",\n",
    "    func=describe_tables,\n",
    "    args_schema=DescribeTablesArgsSchema,\n",
    ")"
   ]
  },
  {
   "cell_type": "code",
   "execution_count": 170,
   "metadata": {},
   "outputs": [
    {
     "data": {
      "text/plain": [
       "True"
      ]
     },
     "execution_count": 170,
     "metadata": {},
     "output_type": "execute_result"
    }
   ],
   "source": [
    "from langchain_openai import ChatOpenAI\n",
    "from langchain.prompts import (\n",
    "    ChatPromptTemplate,\n",
    "    HumanMessagePromptTemplate,\n",
    "    MessagesPlaceholder\n",
    ")\n",
    "from langchain.agents import OpenAIFunctionsAgent, AgentExecutor\n",
    "from dotenv import load_dotenv\n",
    "from langchain.schema import SystemMessage\n",
    "load_dotenv()\n"
   ]
  },
  {
   "cell_type": "code",
   "execution_count": 171,
   "metadata": {},
   "outputs": [],
   "source": [
    "def list_list_tables():\n",
    "    c = conn.cursor()\n",
    "    c.execute(\"SELECT name FROM sqlite_master WHERE type='table';\")\n",
    "    rows = c.fetchall() \n",
    "    return \"\\n\".join(row[0] for row in rows if row[0] is not None)\n"
   ]
  },
  {
   "cell_type": "code",
   "execution_count": 172,
   "metadata": {},
   "outputs": [],
   "source": [
    "chat = ChatOpenAI(\n",
    "    model='gpt-3.5-turbo',\n",
    ")\n",
    "\n",
    "tables = list_list_tables()\n",
    "\n",
    "\n",
    "\n",
    "chat_prompt = ChatPromptTemplate(\n",
    "    messages =[\n",
    "        SystemMessage(\n",
    "            content=f\"You are an AI that has access to SQLite database.\\n The database has tables of:\\n {tables}.\\n Do not make any assumptions about the what tables exist or what colums exist. Instead use the 'describe_tables' function.\"\n",
    "        ),\n",
    "        HumanMessagePromptTemplate.from_template(\"{input}\"),\n",
    "        MessagesPlaceholder(variable_name=\"agent_scratchpad\")\n",
    "    ]\n",
    ")"
   ]
  },
  {
   "cell_type": "code",
   "execution_count": 173,
   "metadata": {},
   "outputs": [],
   "source": [
    "tools = [run_query_tool, describe_tables_tool]\n",
    "\n",
    "agent = OpenAIFunctionsAgent(\n",
    "    llm=chat,\n",
    "    prompt=chat_prompt,\n",
    "    tools=tools,\n",
    ")\n",
    "\n",
    "agent_executor = AgentExecutor(\n",
    "    agent=agent,\n",
    "    verbose=True,\n",
    "    tools=tools,\n",
    ")\n"
   ]
  },
  {
   "cell_type": "code",
   "execution_count": 174,
   "metadata": {},
   "outputs": [
    {
     "name": "stdout",
     "output_type": "stream",
     "text": [
      "\n",
      "\n",
      "\u001b[1m> Entering new AgentExecutor chain...\u001b[0m\n",
      "\u001b[32;1m\u001b[1;3m\n",
      "Invoking: `describe_tables` with `users`\n",
      "\n",
      "\n",
      "\u001b[0mtables_names users\n",
      "\u001b[33;1m\u001b[1;3m\u001b[0m\u001b[32;1m\u001b[1;3m\n",
      "Invoking: `run_sqlite_query` with `SELECT COUNT(*) FROM users`\n",
      "responded: It seems like I made a mistake. Let me try again to get the information about the number of users in the database.\n",
      "\n",
      "\u001b[0m\u001b[36;1m\u001b[1;3m[(2000,)]\u001b[0m\u001b[32;1m\u001b[1;3mThere are 2000 users in the database.\u001b[0m\n",
      "\n",
      "\u001b[1m> Finished chain.\u001b[0m\n"
     ]
    },
    {
     "data": {
      "text/plain": [
       "{'input': 'How many users are in the database?',\n",
       " 'output': 'There are 2000 users in the database.'}"
      ]
     },
     "execution_count": 174,
     "metadata": {},
     "output_type": "execute_result"
    }
   ],
   "source": [
    "agent_executor(\"How many users are in the database?\")"
   ]
  },
  {
   "cell_type": "code",
   "execution_count": 175,
   "metadata": {},
   "outputs": [
    {
     "name": "stdout",
     "output_type": "stream",
     "text": [
      "\n",
      "\n",
      "\u001b[1m> Entering new AgentExecutor chain...\u001b[0m\n",
      "\u001b[32;1m\u001b[1;3m\n",
      "Invoking: `describe_tables` with `users`\n",
      "\n",
      "\n",
      "\u001b[0mtables_names users\n",
      "\u001b[33;1m\u001b[1;3m\u001b[0m\u001b[32;1m\u001b[1;3m\n",
      "Invoking: `run_sqlite_query` with `SELECT COUNT(*) FROM users WHERE shipping_address IS NOT NULL`\n",
      "responded: I have retrieved the schema for the 'users' table. Let me query the database to find out how many users provided a shipping address.\n",
      "\n",
      "\u001b[0m\u001b[36;1m\u001b[1;3mThe following error occurred: no such column: shipping_address\u001b[0m\u001b[32;1m\u001b[1;3m\n",
      "Invoking: `describe_tables` with `addresses`\n",
      "responded: It seems that there is no 'shipping_address' column in the 'users' table. Let me retrieve the schema for the 'addresses' table to see if the shipping address information is stored there.\n",
      "\n",
      "\u001b[0mtables_names addresses\n",
      "\u001b[33;1m\u001b[1;3m\u001b[0m\u001b[32;1m\u001b[1;3m\n",
      "Invoking: `run_sqlite_query` with `SELECT COUNT(DISTINCT user_id) FROM addresses WHERE address_type = 'shipping'`\n",
      "responded: I have retrieved the schema for the 'addresses' table. Let me query the database to find out how many users provided a shipping address.\n",
      "\n",
      "\u001b[0m\u001b[36;1m\u001b[1;3mThe following error occurred: no such column: address_type\u001b[0m\u001b[32;1m\u001b[1;3m\n",
      "Invoking: `run_sqlite_query` with `SELECT * FROM addresses LIMIT 5`\n",
      "responded: It seems that there is no 'address_type' column in the 'addresses' table. Let me retrieve the data from the 'addresses' table to see how the shipping address information is stored.\n",
      "\n",
      "\u001b[0m\u001b[36;1m\u001b[1;3m[(1, 2, 'Unit 6404 Box 5297, DPO AE 13110'), (2, 2, '60141 Harrison Gardens Suite 626, East Jamesstad, FL 46023'), (3, 3, '41126 Angela Port, North Emilyport, OR 34162'), (4, 4, 'Unit 7418 Box 9166, DPO AP 90017'), (5, 5, '782 Brent Junctions, North Brentbury, FM 84956')]\u001b[0m\u001b[32;1m\u001b[1;3m\n",
      "Invoking: `run_sqlite_query` with `SELECT COUNT(DISTINCT user_id) FROM addresses`\n",
      "responded: Based on the data from the 'addresses' table, it appears that the shipping address information is stored in the address field. Let me query the database to find out how many users provided a shipping address.\n",
      "\n",
      "\u001b[0m\u001b[36;1m\u001b[1;3m[(2000,)]\u001b[0m\u001b[32;1m\u001b[1;3mThere are 2000 users who have provided a shipping address.\u001b[0m\n",
      "\n",
      "\u001b[1m> Finished chain.\u001b[0m\n"
     ]
    },
    {
     "data": {
      "text/plain": [
       "{'input': 'How many users provided shipping address?',\n",
       " 'output': 'There are 2000 users who have provided a shipping address.'}"
      ]
     },
     "execution_count": 175,
     "metadata": {},
     "output_type": "execute_result"
    }
   ],
   "source": [
    "agent_executor(\"How many users provided shipping address?\")"
   ]
  }
 ],
 "metadata": {
  "kernelspec": {
   "display_name": ".venv",
   "language": "python",
   "name": "python3"
  },
  "language_info": {
   "codemirror_mode": {
    "name": "ipython",
    "version": 3
   },
   "file_extension": ".py",
   "mimetype": "text/x-python",
   "name": "python",
   "nbconvert_exporter": "python",
   "pygments_lexer": "ipython3",
   "version": "3.10.10"
  }
 },
 "nbformat": 4,
 "nbformat_minor": 2
}
