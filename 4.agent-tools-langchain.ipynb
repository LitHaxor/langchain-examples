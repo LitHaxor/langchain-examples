{
 "cells": [
  {
   "cell_type": "markdown",
   "metadata": {},
   "source": [
    "# Agents and Tools"
   ]
  },
  {
   "cell_type": "markdown",
   "metadata": {},
   "source": [
    "#### ChatGPT Functions"
   ]
  },
  {
   "cell_type": "code",
   "execution_count": 139,
   "metadata": {},
   "outputs": [],
   "source": [
    "import sqlite3\n",
    "\n",
    "conn = sqlite3.connect('db.sqlite')"
   ]
  },
  {
   "cell_type": "code",
   "execution_count": 140,
   "metadata": {},
   "outputs": [],
   "source": [
    "def run_query(query:str):\n",
    "    cursor = conn.cursor()\n",
    "    try:\n",
    "        cursor.execute(query)\n",
    "        conn.commit()\n",
    "        return cursor.fetchall()\n",
    "    except sqlite3.OperationalError as err:\n",
    "        return f\"The following error occurred: {str(err)}\"\n",
    "    \n",
    "def describe_tables(tables_names):\n",
    "    c = conn.cursor()\n",
    "    tables = ', '.join(\"'\" + table + \"'\" for table in tables_names)\n",
    "    query = f\"SELECT sql FROM sqlite_master WHERE type='table' and name in ({tables});\"\n",
    "    rows = c.execute(query) \n",
    "    formated = '\\n'.join(row[0] for row in rows if row[0] is not None)\n",
    "\n",
    "    print(\n",
    "        \"tables: \\n\",\n",
    "        formated\n",
    "    )\n",
    "\n",
    "    return formated\n",
    "\n"
   ]
  },
  {
   "cell_type": "code",
   "execution_count": 141,
   "metadata": {},
   "outputs": [],
   "source": [
    "from langchain.tools import Tool\n",
    "\n",
    "\n",
    "run_query_tool = Tool.from_function(\n",
    "    name=\"run_sqlite_query\",\n",
    "    description=\"\"\"\n",
    "    run a query on the sqlite database\n",
    "    \"\"\",\n",
    "    func=run_query,\n",
    ")\n",
    "\n",
    "describe_tables_tool = Tool.from_function(\n",
    "    name=\"describe_tables\",\n",
    "    description=\"\"\"\n",
    "    Given a list of tables name, return the tables that are present in the database\n",
    "    \"\"\",\n",
    "    func=describe_tables,\n",
    ")"
   ]
  },
  {
   "cell_type": "code",
   "execution_count": 142,
   "metadata": {},
   "outputs": [
    {
     "data": {
      "text/plain": [
       "True"
      ]
     },
     "execution_count": 142,
     "metadata": {},
     "output_type": "execute_result"
    }
   ],
   "source": [
    "from langchain_openai import ChatOpenAI\n",
    "from langchain.prompts import (\n",
    "    ChatPromptTemplate,\n",
    "    HumanMessagePromptTemplate,\n",
    "    MessagesPlaceholder\n",
    ")\n",
    "from langchain.agents import OpenAIFunctionsAgent, AgentExecutor\n",
    "from dotenv import load_dotenv\n",
    "from langchain.schema import SystemMessage\n",
    "load_dotenv()\n"
   ]
  },
  {
   "cell_type": "code",
   "execution_count": 143,
   "metadata": {},
   "outputs": [],
   "source": [
    "def list_list_tables():\n",
    "    c = conn.cursor()\n",
    "    c.execute(\"SELECT name FROM sqlite_master WHERE type='table';\")\n",
    "    rows = c.fetchall() \n",
    "    return \"\\n\".join(row[0] for row in rows if row[0] is not None)\n"
   ]
  },
  {
   "cell_type": "code",
   "execution_count": 144,
   "metadata": {},
   "outputs": [],
   "source": [
    "chat = ChatOpenAI(\n",
    "    model='gpt-3.5-turbo',\n",
    ")\n",
    "\n",
    "tables = list_list_tables()\n",
    "\n",
    "\n",
    "\n",
    "chat_prompt = ChatPromptTemplate(\n",
    "    messages =[\n",
    "        SystemMessage(\n",
    "            content=f\"You are an AI that has access to SQLite database.\\n The database has tables of:\\n {tables}.\\n Do not make any assumptions about the what tables exist or what colums exist. Instead use the 'describe_tables' function.\"\n",
    "        ),\n",
    "        HumanMessagePromptTemplate.from_template(\"{input}\"),\n",
    "        MessagesPlaceholder(variable_name=\"agent_scratchpad\")\n",
    "    ]\n",
    ")"
   ]
  },
  {
   "cell_type": "code",
   "execution_count": 145,
   "metadata": {},
   "outputs": [],
   "source": [
    "tools = [run_query_tool, describe_tables_tool]\n",
    "\n",
    "agent = OpenAIFunctionsAgent(\n",
    "    llm=chat,\n",
    "    prompt=chat_prompt,\n",
    "    tools=tools,\n",
    ")\n",
    "\n",
    "agent_executor = AgentExecutor(\n",
    "    agent=agent,\n",
    "    verbose=True,\n",
    "    tools=tools,\n",
    ")\n"
   ]
  },
  {
   "cell_type": "code",
   "execution_count": 146,
   "metadata": {},
   "outputs": [
    {
     "name": "stdout",
     "output_type": "stream",
     "text": [
      "\n",
      "\n",
      "\u001b[1m> Entering new AgentExecutor chain...\u001b[0m\n",
      "\u001b[32;1m\u001b[1;3m\n",
      "Invoking: `describe_tables` with `users`\n",
      "\n",
      "\n",
      "\u001b[0mtables: \n",
      " \n",
      "\u001b[33;1m\u001b[1;3m\u001b[0m\u001b[32;1m\u001b[1;3m\n",
      "Invoking: `run_sqlite_query` with `SELECT COUNT(*) FROM users`\n",
      "responded: It seems that I do not have access to the table structure at the moment. Let me try again.\n",
      "\n",
      "\u001b[0m\u001b[36;1m\u001b[1;3m[(2000,)]\u001b[0m\u001b[32;1m\u001b[1;3mThere are 2000 users in the database.\u001b[0m\n",
      "\n",
      "\u001b[1m> Finished chain.\u001b[0m\n"
     ]
    },
    {
     "data": {
      "text/plain": [
       "{'input': 'How many users are in the database?',\n",
       " 'output': 'There are 2000 users in the database.'}"
      ]
     },
     "execution_count": 146,
     "metadata": {},
     "output_type": "execute_result"
    }
   ],
   "source": [
    "agent_executor(\"How many users are in the database?\")"
   ]
  },
  {
   "cell_type": "code",
   "execution_count": 147,
   "metadata": {},
   "outputs": [
    {
     "name": "stdout",
     "output_type": "stream",
     "text": [
      "\n",
      "\n",
      "\u001b[1m> Entering new AgentExecutor chain...\u001b[0m\n",
      "\u001b[32;1m\u001b[1;3m\n",
      "Invoking: `describe_tables` with `users`\n",
      "\n",
      "\n",
      "\u001b[0mtables: \n",
      " \n",
      "\u001b[33;1m\u001b[1;3m\u001b[0m\u001b[32;1m\u001b[1;3m\n",
      "Invoking: `describe_tables` with `addresses`\n",
      "responded: It seems like I do not have access to the schema of the 'users' table. Let me try again.\n",
      "\n",
      "\u001b[0mtables: \n",
      " \n",
      "\u001b[33;1m\u001b[1;3m\u001b[0m\u001b[32;1m\u001b[1;3m\n",
      "Invoking: `run_sqlite_query` with `SELECT COUNT(DISTINCT user_id) FROM addresses`\n",
      "responded: The 'addresses' table contains the information about shipping addresses. Let me check how many users provided a shipping address by querying the 'addresses' table.\n",
      "\n",
      "\u001b[0m\u001b[36;1m\u001b[1;3m[(2000,)]\u001b[0m\u001b[32;1m\u001b[1;3mThere are 2000 users who provided a shipping address.\u001b[0m\n",
      "\n",
      "\u001b[1m> Finished chain.\u001b[0m\n"
     ]
    },
    {
     "data": {
      "text/plain": [
       "{'input': 'How many users provided shipping address?',\n",
       " 'output': 'There are 2000 users who provided a shipping address.'}"
      ]
     },
     "execution_count": 147,
     "metadata": {},
     "output_type": "execute_result"
    }
   ],
   "source": [
    "agent_executor(\"How many users provided shipping address?\")"
   ]
  }
 ],
 "metadata": {
  "kernelspec": {
   "display_name": ".venv",
   "language": "python",
   "name": "python3"
  },
  "language_info": {
   "codemirror_mode": {
    "name": "ipython",
    "version": 3
   },
   "file_extension": ".py",
   "mimetype": "text/x-python",
   "name": "python",
   "nbconvert_exporter": "python",
   "pygments_lexer": "ipython3",
   "version": "3.10.10"
  }
 },
 "nbformat": 4,
 "nbformat_minor": 2
}
