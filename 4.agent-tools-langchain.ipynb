{
 "cells": [
  {
   "cell_type": "markdown",
   "metadata": {},
   "source": [
    "# Agents and Tools"
   ]
  },
  {
   "cell_type": "markdown",
   "metadata": {},
   "source": [
    "#### ChatGPT Functions"
   ]
  },
  {
   "cell_type": "code",
   "execution_count": 181,
   "metadata": {},
   "outputs": [],
   "source": [
    "import sqlite3\n",
    "conn = sqlite3.connect('db.sqlite')"
   ]
  },
  {
   "cell_type": "code",
   "execution_count": 182,
   "metadata": {},
   "outputs": [],
   "source": [
    "def run_query(query:str):\n",
    "    cursor = conn.cursor()\n",
    "    try:\n",
    "        cursor.execute(query)\n",
    "        conn.commit()\n",
    "        return cursor.fetchall()\n",
    "    except sqlite3.OperationalError as err:\n",
    "        return f\"The following error occurred: {str(err)}\"\n",
    "    \n",
    "def describe_tables(tables_names):\n",
    "    print(\"tables_names\", tables_names)\n",
    "    c = conn.cursor()\n",
    "    tables = ', '.join(\"'\" + table + \"'\" for table in tables_names)\n",
    "    query = f\"SELECT sql FROM sqlite_master WHERE type='table' and name in ({tables});\"\n",
    "    rows = c.execute(query) \n",
    "    formated = '\\n'.join(row[0] for row in rows if row[0] is not None)\n",
    "    return formated\n",
    "\n"
   ]
  },
  {
   "cell_type": "markdown",
   "metadata": {},
   "source": [
    "## Making Custom Schema"
   ]
  },
  {
   "cell_type": "code",
   "execution_count": 183,
   "metadata": {},
   "outputs": [],
   "source": [
    "from pydantic.v1 import BaseModel\n",
    "\n",
    "class RunQueryArgsSchema(BaseModel):\n",
    "    query: str\n",
    "\n",
    "class DescribeTablesArgsSchema(BaseModel):\n",
    "    tables_names: list[str]"
   ]
  },
  {
   "cell_type": "code",
   "execution_count": 184,
   "metadata": {},
   "outputs": [],
   "source": [
    "from langchain.tools import Tool\n",
    "\n",
    "\n",
    "run_query_tool = Tool.from_function(\n",
    "    name=\"run_sqlite_query\",\n",
    "    description=\"\"\"\n",
    "    run a query on the sqlite database\n",
    "    \"\"\",\n",
    "    func=run_query,\n",
    "    args_schema=RunQueryArgsSchema,\n",
    ")\n",
    "\n",
    "describe_tables_tool = Tool.from_function(\n",
    "    name=\"describe_tables\",\n",
    "    description=\"\"\"\n",
    "    Given a list of tables name, return the tables that are present in the database\n",
    "    \"\"\",\n",
    "    func=describe_tables,\n",
    "    args_schema=DescribeTablesArgsSchema,\n",
    ")"
   ]
  },
  {
   "cell_type": "code",
   "execution_count": 185,
   "metadata": {},
   "outputs": [
    {
     "data": {
      "text/plain": [
       "True"
      ]
     },
     "execution_count": 185,
     "metadata": {},
     "output_type": "execute_result"
    }
   ],
   "source": [
    "from langchain_openai import ChatOpenAI\n",
    "from langchain.prompts import (\n",
    "    ChatPromptTemplate,\n",
    "    HumanMessagePromptTemplate,\n",
    "    MessagesPlaceholder\n",
    ")\n",
    "from langchain.agents import OpenAIFunctionsAgent, AgentExecutor\n",
    "from dotenv import load_dotenv\n",
    "from langchain.schema import SystemMessage\n",
    "load_dotenv()\n"
   ]
  },
  {
   "cell_type": "code",
   "execution_count": 186,
   "metadata": {},
   "outputs": [],
   "source": [
    "def list_list_tables():\n",
    "    c = conn.cursor()\n",
    "    c.execute(\"SELECT name FROM sqlite_master WHERE type='table';\")\n",
    "    rows = c.fetchall() \n",
    "    return \"\\n\".join(row[0] for row in rows if row[0] is not None)\n"
   ]
  },
  {
   "cell_type": "code",
   "execution_count": 187,
   "metadata": {},
   "outputs": [],
   "source": [
    "chat = ChatOpenAI(\n",
    "    model='gpt-3.5-turbo',\n",
    ")\n",
    "\n",
    "tables = list_list_tables()\n",
    "\n",
    "\n",
    "\n",
    "chat_prompt = ChatPromptTemplate(\n",
    "    messages =[\n",
    "        SystemMessage(\n",
    "            content=f\"You are an AI that has access to SQLite database.\\n The database has tables of:\\n {tables}.\\n Do not make any assumptions about the what tables exist or what colums exist. Instead use the 'describe_tables' function.\"\n",
    "        ),\n",
    "        HumanMessagePromptTemplate.from_template(\"{input}\"),\n",
    "        MessagesPlaceholder(variable_name=\"agent_scratchpad\")\n",
    "    ]\n",
    ")"
   ]
  },
  {
   "cell_type": "code",
   "execution_count": 188,
   "metadata": {},
   "outputs": [],
   "source": [
    "tools = [run_query_tool, describe_tables_tool]\n",
    "\n",
    "agent = OpenAIFunctionsAgent(\n",
    "    llm=chat,\n",
    "    prompt=chat_prompt,\n",
    "    tools=tools,\n",
    ")\n",
    "\n",
    "agent_executor = AgentExecutor(\n",
    "    agent=agent,\n",
    "    verbose=True,\n",
    "    tools=tools,\n",
    ")\n"
   ]
  },
  {
   "cell_type": "code",
   "execution_count": 189,
   "metadata": {},
   "outputs": [
    {
     "name": "stdout",
     "output_type": "stream",
     "text": [
      "\n",
      "\n",
      "\u001b[1m> Entering new AgentExecutor chain...\u001b[0m\n",
      "\u001b[32;1m\u001b[1;3m\n",
      "Invoking: `describe_tables` with `{'tables_names': ['users']}`\n",
      "\n",
      "\n",
      "\u001b[0mtables_names ['users']\n",
      "\u001b[33;1m\u001b[1;3mCREATE TABLE users (\n",
      "    id INTEGER PRIMARY KEY,\n",
      "    name TEXT,\n",
      "    email TEXT UNIQUE,\n",
      "    password TEXT\n",
      "    )\u001b[0m\u001b[32;1m\u001b[1;3m\n",
      "Invoking: `run_sqlite_query` with `{'query': 'SELECT COUNT(*) FROM users'}`\n",
      "\n",
      "\n",
      "\u001b[0m\u001b[36;1m\u001b[1;3m[(2000,)]\u001b[0m\u001b[32;1m\u001b[1;3mThere are 2000 users in the database.\u001b[0m\n",
      "\n",
      "\u001b[1m> Finished chain.\u001b[0m\n"
     ]
    },
    {
     "data": {
      "text/plain": [
       "{'input': 'How many users are in the database?',\n",
       " 'output': 'There are 2000 users in the database.'}"
      ]
     },
     "execution_count": 189,
     "metadata": {},
     "output_type": "execute_result"
    }
   ],
   "source": [
    "agent_executor(\"How many users are in the database?\")"
   ]
  },
  {
   "cell_type": "code",
   "execution_count": 190,
   "metadata": {},
   "outputs": [
    {
     "name": "stdout",
     "output_type": "stream",
     "text": [
      "\n",
      "\n",
      "\u001b[1m> Entering new AgentExecutor chain...\u001b[0m\n",
      "\u001b[32;1m\u001b[1;3m\n",
      "Invoking: `describe_tables` with `{'tables_names': ['users', 'addresses']}`\n",
      "\n",
      "\n",
      "\u001b[0mtables_names ['users', 'addresses']\n",
      "\u001b[33;1m\u001b[1;3mCREATE TABLE users (\n",
      "    id INTEGER PRIMARY KEY,\n",
      "    name TEXT,\n",
      "    email TEXT UNIQUE,\n",
      "    password TEXT\n",
      "    )\n",
      "CREATE TABLE addresses (\n",
      "    id INTEGER PRIMARY KEY,\n",
      "    user_id INTEGER,\n",
      "    address TEXT\n",
      "    )\u001b[0m\u001b[32;1m\u001b[1;3m\n",
      "Invoking: `run_sqlite_query` with `{'query': 'SELECT COUNT(DISTINCT user_id) FROM addresses'}`\n",
      "\n",
      "\n",
      "\u001b[0m\u001b[36;1m\u001b[1;3m[(2000,)]\u001b[0m\u001b[32;1m\u001b[1;3mThere are 2000 users who provided a shipping address.\u001b[0m\n",
      "\n",
      "\u001b[1m> Finished chain.\u001b[0m\n"
     ]
    },
    {
     "data": {
      "text/plain": [
       "{'input': 'How many users provided shipping address?',\n",
       " 'output': 'There are 2000 users who provided a shipping address.'}"
      ]
     },
     "execution_count": 190,
     "metadata": {},
     "output_type": "execute_result"
    }
   ],
   "source": [
    "agent_executor(\"How many users provided shipping address?\")"
   ]
  },
  {
   "cell_type": "markdown",
   "metadata": {},
   "source": [
    "## Report maker"
   ]
  },
  {
   "cell_type": "code",
   "execution_count": 191,
   "metadata": {},
   "outputs": [],
   "source": [
    "from langchain.tools import StructuredTool"
   ]
  },
  {
   "cell_type": "code",
   "execution_count": 192,
   "metadata": {},
   "outputs": [],
   "source": [
    "class ReportHTMLArgsSchema(BaseModel):\n",
    "    filename: str\n",
    "    html: str"
   ]
  },
  {
   "cell_type": "code",
   "execution_count": 193,
   "metadata": {},
   "outputs": [],
   "source": [
    "def write_report_html(filename:str, html:str):\n",
    "    with open(filename, \"w\") as f:\n",
    "        f.write(html)\n",
    "    return f\"Report saved to {filename}\""
   ]
  },
  {
   "cell_type": "code",
   "execution_count": 195,
   "metadata": {},
   "outputs": [],
   "source": [
    "write_report_tool = StructuredTool.from_function(\n",
    "    name=\"write_report\",\n",
    "    description=\"Write and HTML file to disk. use this tool whenever asked for a report\",\n",
    "    func=write_report_html,\n",
    "    args_schema=ReportHTMLArgsSchema\n",
    ")"
   ]
  },
  {
   "cell_type": "code",
   "execution_count": 196,
   "metadata": {},
   "outputs": [],
   "source": [
    "tools_with_html = tools + [write_report_tool]\n",
    "\n",
    "\n",
    "html_agent = OpenAIFunctionsAgent(\n",
    "    llm=chat,\n",
    "    prompt=chat_prompt,\n",
    "    tools=tools_with_html,\n",
    ")\n",
    "\n",
    "html_agent_executor = AgentExecutor(\n",
    "    agent=html_agent,\n",
    "    verbose=True,\n",
    "    tools=tools_with_html,\n",
    ")\n",
    "\n"
   ]
  },
  {
   "cell_type": "code",
   "execution_count": 198,
   "metadata": {},
   "outputs": [
    {
     "name": "stdout",
     "output_type": "stream",
     "text": [
      "\n",
      "\n",
      "\u001b[1m> Entering new AgentExecutor chain...\u001b[0m\n",
      "\u001b[32;1m\u001b[1;3m\n",
      "Invoking: `describe_tables` with `{'tables_names': ['products', 'order_products']}`\n",
      "\n",
      "\n",
      "\u001b[0mtables_names ['products', 'order_products']\n",
      "\u001b[33;1m\u001b[1;3mCREATE TABLE products (\n",
      "    id INTEGER PRIMARY KEY,\n",
      "    name TEXT,\n",
      "    price REAL\n",
      "    )\n",
      "CREATE TABLE order_products (\n",
      "    id INTEGER PRIMARY KEY,\n",
      "    order_id INTEGER,\n",
      "    product_id INTEGER,\n",
      "    amount INTEGER\n",
      "    )\u001b[0m\u001b[32;1m\u001b[1;3m\n",
      "Invoking: `run_sqlite_query` with `{'query': 'SELECT product_id, SUM(amount) as total_amount FROM order_products GROUP BY product_id ORDER BY total_amount DESC LIMIT 5'}`\n",
      "\n",
      "\n",
      "\u001b[0m\u001b[36;1m\u001b[1;3m[(3929, 62), (1657, 55), (866, 55), (1437, 53), (3192, 52)]\u001b[0m\u001b[32;1m\u001b[1;3m\n",
      "Invoking: `describe_tables` with `{'tables_names': ['products']}`\n",
      "\n",
      "\n",
      "\u001b[0mtables_names ['products']\n",
      "\u001b[33;1m\u001b[1;3mCREATE TABLE products (\n",
      "    id INTEGER PRIMARY KEY,\n",
      "    name TEXT,\n",
      "    price REAL\n",
      "    )\u001b[0m\u001b[32;1m\u001b[1;3m\n",
      "Invoking: `run_sqlite_query` with `{'query': 'SELECT * FROM products WHERE id IN (3929, 1657, 866, 1437, 3192)'}`\n",
      "\n",
      "\n",
      "\u001b[0m\u001b[36;1m\u001b[1;3m[(866, 'Ball', 303.47), (1437, 'Refined Chips', 468.43), (1657, 'Rubber Mouse', 45.78), (3192, 'Generic Ball', 146.88), (3929, 'Unbranded Pizza', 570.36)]\u001b[0m\u001b[32;1m\u001b[1;3m\n",
      "Invoking: `write_report` with `{'filename': 'report.html', 'html': '<h1>Top 5 Most Popular Products</h1><table><tr><th>Product ID</th><th>Name</th><th>Price</th></tr><tr><td>3929</td><td>Unbranded Pizza</td><td>570.36</td></tr><tr><td>1657</td><td>Rubber Mouse</td><td>45.78</td></tr><tr><td>866</td><td>Ball</td><td>303.47</td></tr><tr><td>1437</td><td>Refined Chips</td><td>468.43</td></tr><tr><td>3192</td><td>Generic Ball</td><td>146.88</td></tr></table>'}`\n",
      "\n",
      "\n",
      "\u001b[0m\u001b[38;5;200m\u001b[1;3mReport saved to report.html\u001b[0m\u001b[32;1m\u001b[1;3mI have summarized the top 5 most popular products and saved the report to 'report.html'. You can download the report [here](sandbox:/report.html).\u001b[0m\n",
      "\n",
      "\u001b[1m> Finished chain.\u001b[0m\n"
     ]
    },
    {
     "data": {
      "text/plain": [
       "{'input': \"Summerize top 5 most popular products and save the report to 'report.html'\",\n",
       " 'output': \"I have summarized the top 5 most popular products and saved the report to 'report.html'. You can download the report [here](sandbox:/report.html).\"}"
      ]
     },
     "execution_count": 198,
     "metadata": {},
     "output_type": "execute_result"
    }
   ],
   "source": [
    "\n",
    "html_agent_executor(\"Summerize top 5 most popular products and save the report to 'report.html'\")"
   ]
  }
 ],
 "metadata": {
  "kernelspec": {
   "display_name": ".venv",
   "language": "python",
   "name": "python3"
  },
  "language_info": {
   "codemirror_mode": {
    "name": "ipython",
    "version": 3
   },
   "file_extension": ".py",
   "mimetype": "text/x-python",
   "name": "python",
   "nbconvert_exporter": "python",
   "pygments_lexer": "ipython3",
   "version": "3.10.10"
  }
 },
 "nbformat": 4,
 "nbformat_minor": 2
}
