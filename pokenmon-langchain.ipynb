{
 "cells": [
  {
   "cell_type": "code",
   "execution_count": 26,
   "metadata": {},
   "outputs": [],
   "source": [
    "from langchain import LLMChain, PromptTemplate\n",
    "from langchain_openai import ChatOpenAI\n",
    "import requests\n",
    "import os\n",
    "\n",
    "\n",
    "os.environ[\"OPENAI_API_KEY\"] = <place your tokens here>\n",
    "\n"
   ]
  },
  {
   "cell_type": "markdown",
   "metadata": {},
   "source": [
    "# Define tools as functions"
   ]
  },
  {
   "cell_type": "code",
   "execution_count": 27,
   "metadata": {},
   "outputs": [],
   "source": [
    "def get_pokemon_data(pokemon_name: str):\n",
    "    url = f\"https://pokeapi.co/api/v2/pokemon/{pokemon_name.lower()}\"\n",
    "    response = requests.get(url)\n",
    "    if response.status_code == 200:\n",
    "        return response.json()\n",
    "    else:\n",
    "        return {\"error\": \"Pokémon not found\"}\n",
    "\n",
    "def extract_pokemon_stats(pokemon_data: dict):\n",
    "    if \"error\" in pokemon_data:\n",
    "        return pokemon_data[\"error\"]\n",
    "    \n",
    "    stats = pokemon_data[\"stats\"]\n",
    "    return {stat[\"stat\"][\"name\"]: stat[\"base_stat\"] for stat in stats}\n",
    "\n",
    "def format_pokemon_info(pokemon_data: dict, stats: dict):\n",
    "    if \"error\" in pokemon_data:\n",
    "        return pokemon_data[\"error\"]\n",
    "    \n",
    "    info = f\"Pokémon: {pokemon_data['name'].capitalize()}\\n\"\n",
    "    info += f\"Height: {pokemon_data['height']}\\n\"\n",
    "    info += f\"Weight: {pokemon_data['weight']}\\n\"\n",
    "    info += \"Stats:\\n\"\n",
    "    for stat_name, stat_value in stats.items():\n",
    "        info += f\"  {stat_name.capitalize()}: {stat_value}\\n\"\n",
    "    \n",
    "    return info\n"
   ]
  },
  {
   "cell_type": "markdown",
   "metadata": {},
   "source": [
    "# Create the Pokémon Info Chain\n"
   ]
  },
  {
   "cell_type": "code",
   "execution_count": 28,
   "metadata": {},
   "outputs": [],
   "source": [
    "class PokemonInfoChain:\n",
    "    def __init__(self):\n",
    "        self.get_pokemon_data = get_pokemon_data\n",
    "        self.extract_pokemon_stats = extract_pokemon_stats\n",
    "        self.format_pokemon_info = format_pokemon_info\n",
    "\n",
    "    def run(self, pokemon_name: str):\n",
    "        # Step 1: Fetch Pokémon data\n",
    "        pokemon_data = self.get_pokemon_data(pokemon_name)\n",
    "        \n",
    "        # Step 2: Extract Pokémon stats\n",
    "        pokemon_stats = self.extract_pokemon_stats(pokemon_data)\n",
    "        \n",
    "        # Step 3: Format Pokémon information\n",
    "        formatted_info = self.format_pokemon_info(pokemon_data, pokemon_stats)\n",
    "        \n",
    "        return formatted_info\n"
   ]
  },
  {
   "cell_type": "markdown",
   "metadata": {},
   "source": [
    "# Define the Combined Prompt Template\n"
   ]
  },
  {
   "cell_type": "code",
   "execution_count": 29,
   "metadata": {},
   "outputs": [],
   "source": [
    "# Initialize the LLM\n",
    "llm = ChatOpenAI(model=\"gpt-3.5-turbo\", temperature=0)\n",
    "\n",
    "\n",
    "# Define a combined prompt template\n",
    "combined_prompt_template = PromptTemplate(\n",
    "    input_variables=[\"prompt\"],\n",
    "    template=\"\"\"\n",
    "    You are an intelligent assistant. Your task is to determine if a given prompt is asking about a Pokémon.\n",
    "    If it is, extract the Pokémon name and fetch its data. If it is not, answer the general question.\n",
    "    \n",
    "    Here is the prompt: {prompt}\n",
    "\n",
    "    Step 1: Determine if the prompt is asking about a Pokémon. \n",
    "    Step 2: If it is, extract the Pokémon name and use the Pokémon Info Chain to fetch its data. \n",
    "    Step 3: If it is not, answer the general question using the general LLM chain.\n",
    "\n",
    "    example output:\n",
    "    \"This is a Pokémon-related prompt. The Pokémon name is 'pikachu'.\"\n",
    "    or \n",
    "    \"This is a general question. The answer is 'I am a general answer.'\"\n",
    "    \"\"\"\n",
    ")\n"
   ]
  },
  {
   "cell_type": "code",
   "execution_count": 37,
   "metadata": {},
   "outputs": [
    {
     "name": "stdout",
     "output_type": "stream",
     "text": [
      "Pokémon not found\n",
      "Pokémon: Charizard\n",
      "Height: 17\n",
      "Weight: 905\n",
      "Stats:\n",
      "  Hp: 78\n",
      "  Attack: 84\n",
      "  Defense: 78\n",
      "  Special-attack: 109\n",
      "  Special-defense: 85\n",
      "  Speed: 100\n",
      "\n",
      "Pokémon not found\n"
     ]
    }
   ],
   "source": [
    "class IntelligentAssistant:\n",
    "    def __init__(self):\n",
    "        self.llm = llm\n",
    "        self.combined_prompt_template = combined_prompt_template\n",
    "        self.pokemon_info_chain = PokemonInfoChain()\n",
    "\n",
    "    def handle_prompt(self, prompt: str):\n",
    "\n",
    "        combined_chain = self.combined_prompt_template | llm\n",
    "\n",
    "        response = combined_chain.invoke(prompt)\n",
    "  \n",
    "        response_text = response.content\n",
    "\n",
    "        if \"pokémon\" in response_text.lower():\n",
    "            pokemon_name = response_text.split(\" \")[-1]\n",
    "            return self.pokemon_info_chain.run(pokemon_name)\n",
    "        else:\n",
    "            return response\n",
    "\n",
    "# Example usage\n",
    "assistant = IntelligentAssistant()\n",
    "\n",
    "prompt = \"Who is Pikachu?\"\n",
    "print(assistant.handle_prompt(prompt))\n",
    "\n",
    "prompt = \"Tell me about Charizard.\"\n",
    "print(assistant.handle_prompt(prompt))\n",
    "\n",
    "prompt = \"What is the weather today?\"\n",
    "print(assistant.handle_prompt(prompt))\n"
   ]
  }
 ],
 "metadata": {
  "kernelspec": {
   "display_name": ".venv",
   "language": "python",
   "name": "python3"
  },
  "language_info": {
   "codemirror_mode": {
    "name": "ipython",
    "version": 3
   },
   "file_extension": ".py",
   "mimetype": "text/x-python",
   "name": "python",
   "nbconvert_exporter": "python",
   "pygments_lexer": "ipython3",
   "version": "3.10.10"
  }
 },
 "nbformat": 4,
 "nbformat_minor": 2
}
